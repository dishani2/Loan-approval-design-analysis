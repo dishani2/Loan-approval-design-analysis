{
 "cells": [
  {
   "cell_type": "markdown",
   "id": "1275a5ce-9d71-4c0f-9c43-eb7d13bd83b8",
   "metadata": {},
   "source": [
    "# <h1><center><u> **Capstone Project 2024-25**</u></center></h1> #"
   ]
  },
  {
   "cell_type": "markdown",
   "id": "3af4b9e8-388e-4584-a3d8-3ded6e09fa76",
   "metadata": {},
   "source": [
    "###### <h1><center><u> Small Business Administration Loan Process</u> </center></h1> ######"
   ]
  },
  {
   "cell_type": "code",
   "execution_count": 314,
   "id": "08687f4a-7505-4392-981b-7af47fcfe779",
   "metadata": {},
   "outputs": [
    {
     "data": {
      "application/javascript": [
       "\n",
       "        if (window._pyforest_update_imports_cell) { window._pyforest_update_imports_cell('import numpy as np\\nimport matplotlib.pyplot as plt\\nfrom sklearn.linear_model import LogisticRegression\\nfrom sklearn.preprocessing import StandardScaler\\nfrom sklearn.model_selection import GridSearchCV\\nimport pandas as pd\\nimport seaborn as sns\\nfrom sklearn.model_selection import cross_val_score'); }\n",
       "    "
      ],
      "text/plain": [
       "<IPython.core.display.Javascript object>"
      ]
     },
     "metadata": {},
     "output_type": "display_data"
    }
   ],
   "source": [
    "# Import libraries \n",
    "\n",
    "import pyforest \n",
    "import warnings\n",
    "warnings.filterwarnings(\"ignore\")\n",
    "pd.set_option('display.max_columns', None)"
   ]
  },
  {
   "cell_type": "code",
   "execution_count": 315,
   "id": "68cb3b90-67d0-4d79-8d0d-717ac1876f2f",
   "metadata": {},
   "outputs": [
    {
     "data": {
      "application/javascript": [
       "\n",
       "        if (window._pyforest_update_imports_cell) { window._pyforest_update_imports_cell('import numpy as np\\nimport matplotlib.pyplot as plt\\nfrom sklearn.linear_model import LogisticRegression\\nfrom sklearn.preprocessing import StandardScaler\\nfrom sklearn.model_selection import GridSearchCV\\nimport pandas as pd\\nimport seaborn as sns\\nfrom sklearn.model_selection import cross_val_score'); }\n",
       "    "
      ],
      "text/plain": [
       "<IPython.core.display.Javascript object>"
      ]
     },
     "metadata": {},
     "output_type": "display_data"
    },
    {
     "data": {
      "text/html": [
       "<div>\n",
       "<style scoped>\n",
       "    .dataframe tbody tr th:only-of-type {\n",
       "        vertical-align: middle;\n",
       "    }\n",
       "\n",
       "    .dataframe tbody tr th {\n",
       "        vertical-align: top;\n",
       "    }\n",
       "\n",
       "    .dataframe thead th {\n",
       "        text-align: right;\n",
       "    }\n",
       "</style>\n",
       "<table border=\"1\" class=\"dataframe\">\n",
       "  <thead>\n",
       "    <tr style=\"text-align: right;\">\n",
       "      <th></th>\n",
       "      <th>LoanNr_ChkDgt</th>\n",
       "      <th>Name</th>\n",
       "      <th>City</th>\n",
       "      <th>State</th>\n",
       "      <th>Zip</th>\n",
       "      <th>Bank</th>\n",
       "      <th>BankState</th>\n",
       "      <th>NAICS</th>\n",
       "      <th>ApprovalDate</th>\n",
       "      <th>ApprovalFY</th>\n",
       "      <th>Term</th>\n",
       "      <th>NoEmp</th>\n",
       "      <th>NewExist</th>\n",
       "      <th>CreateJob</th>\n",
       "      <th>RetainedJob</th>\n",
       "      <th>FranchiseCode</th>\n",
       "      <th>UrbanRural</th>\n",
       "      <th>RevLineCr</th>\n",
       "      <th>LowDoc</th>\n",
       "      <th>ChgOffDate</th>\n",
       "      <th>DisbursementDate</th>\n",
       "      <th>DisbursementGross</th>\n",
       "      <th>BalanceGross</th>\n",
       "      <th>MIS_Status</th>\n",
       "      <th>ChgOffPrinGr</th>\n",
       "      <th>GrAppv</th>\n",
       "      <th>SBA_Appv</th>\n",
       "    </tr>\n",
       "  </thead>\n",
       "  <tbody>\n",
       "    <tr>\n",
       "      <th>0</th>\n",
       "      <td>1000014003</td>\n",
       "      <td>ABC HOBBYCRAFT</td>\n",
       "      <td>EVANSVILLE</td>\n",
       "      <td>IN</td>\n",
       "      <td>47711</td>\n",
       "      <td>FIFTH THIRD BANK</td>\n",
       "      <td>OH</td>\n",
       "      <td>451120</td>\n",
       "      <td>28-Feb-97</td>\n",
       "      <td>1997</td>\n",
       "      <td>84</td>\n",
       "      <td>4</td>\n",
       "      <td>2.0</td>\n",
       "      <td>0</td>\n",
       "      <td>0</td>\n",
       "      <td>1</td>\n",
       "      <td>0</td>\n",
       "      <td>N</td>\n",
       "      <td>Y</td>\n",
       "      <td>NaN</td>\n",
       "      <td>28-Feb-99</td>\n",
       "      <td>$60,000.00</td>\n",
       "      <td>$0.00</td>\n",
       "      <td>P I F</td>\n",
       "      <td>$0.00</td>\n",
       "      <td>$60,000.00</td>\n",
       "      <td>$48,000.00</td>\n",
       "    </tr>\n",
       "    <tr>\n",
       "      <th>1</th>\n",
       "      <td>1000024006</td>\n",
       "      <td>LANDMARK BAR &amp; GRILLE (THE)</td>\n",
       "      <td>NEW PARIS</td>\n",
       "      <td>IN</td>\n",
       "      <td>46526</td>\n",
       "      <td>1ST SOURCE BANK</td>\n",
       "      <td>IN</td>\n",
       "      <td>722410</td>\n",
       "      <td>28-Feb-97</td>\n",
       "      <td>1997</td>\n",
       "      <td>60</td>\n",
       "      <td>2</td>\n",
       "      <td>2.0</td>\n",
       "      <td>0</td>\n",
       "      <td>0</td>\n",
       "      <td>1</td>\n",
       "      <td>0</td>\n",
       "      <td>N</td>\n",
       "      <td>Y</td>\n",
       "      <td>NaN</td>\n",
       "      <td>31-May-97</td>\n",
       "      <td>$40,000.00</td>\n",
       "      <td>$0.00</td>\n",
       "      <td>P I F</td>\n",
       "      <td>$0.00</td>\n",
       "      <td>$40,000.00</td>\n",
       "      <td>$32,000.00</td>\n",
       "    </tr>\n",
       "    <tr>\n",
       "      <th>2</th>\n",
       "      <td>1000034009</td>\n",
       "      <td>WHITLOCK DDS, TODD M.</td>\n",
       "      <td>BLOOMINGTON</td>\n",
       "      <td>IN</td>\n",
       "      <td>47401</td>\n",
       "      <td>GRANT COUNTY STATE BANK</td>\n",
       "      <td>IN</td>\n",
       "      <td>621210</td>\n",
       "      <td>28-Feb-97</td>\n",
       "      <td>1997</td>\n",
       "      <td>180</td>\n",
       "      <td>7</td>\n",
       "      <td>1.0</td>\n",
       "      <td>0</td>\n",
       "      <td>0</td>\n",
       "      <td>1</td>\n",
       "      <td>0</td>\n",
       "      <td>N</td>\n",
       "      <td>N</td>\n",
       "      <td>NaN</td>\n",
       "      <td>31-Dec-97</td>\n",
       "      <td>$287,000.00</td>\n",
       "      <td>$0.00</td>\n",
       "      <td>P I F</td>\n",
       "      <td>$0.00</td>\n",
       "      <td>$287,000.00</td>\n",
       "      <td>$215,250.00</td>\n",
       "    </tr>\n",
       "    <tr>\n",
       "      <th>3</th>\n",
       "      <td>1000044001</td>\n",
       "      <td>BIG BUCKS PAWN &amp; JEWELRY, LLC</td>\n",
       "      <td>BROKEN ARROW</td>\n",
       "      <td>OK</td>\n",
       "      <td>74012</td>\n",
       "      <td>1ST NATL BK &amp; TR CO OF BROKEN</td>\n",
       "      <td>OK</td>\n",
       "      <td>0</td>\n",
       "      <td>28-Feb-97</td>\n",
       "      <td>1997</td>\n",
       "      <td>60</td>\n",
       "      <td>2</td>\n",
       "      <td>1.0</td>\n",
       "      <td>0</td>\n",
       "      <td>0</td>\n",
       "      <td>1</td>\n",
       "      <td>0</td>\n",
       "      <td>N</td>\n",
       "      <td>Y</td>\n",
       "      <td>NaN</td>\n",
       "      <td>30-Jun-97</td>\n",
       "      <td>$35,000.00</td>\n",
       "      <td>$0.00</td>\n",
       "      <td>P I F</td>\n",
       "      <td>$0.00</td>\n",
       "      <td>$35,000.00</td>\n",
       "      <td>$28,000.00</td>\n",
       "    </tr>\n",
       "    <tr>\n",
       "      <th>4</th>\n",
       "      <td>1000054004</td>\n",
       "      <td>ANASTASIA CONFECTIONS, INC.</td>\n",
       "      <td>ORLANDO</td>\n",
       "      <td>FL</td>\n",
       "      <td>32801</td>\n",
       "      <td>FLORIDA BUS. DEVEL CORP</td>\n",
       "      <td>FL</td>\n",
       "      <td>0</td>\n",
       "      <td>28-Feb-97</td>\n",
       "      <td>1997</td>\n",
       "      <td>240</td>\n",
       "      <td>14</td>\n",
       "      <td>1.0</td>\n",
       "      <td>7</td>\n",
       "      <td>7</td>\n",
       "      <td>1</td>\n",
       "      <td>0</td>\n",
       "      <td>N</td>\n",
       "      <td>N</td>\n",
       "      <td>NaN</td>\n",
       "      <td>14-May-97</td>\n",
       "      <td>$229,000.00</td>\n",
       "      <td>$0.00</td>\n",
       "      <td>P I F</td>\n",
       "      <td>$0.00</td>\n",
       "      <td>$229,000.00</td>\n",
       "      <td>$229,000.00</td>\n",
       "    </tr>\n",
       "  </tbody>\n",
       "</table>\n",
       "</div>"
      ],
      "text/plain": [
       "   LoanNr_ChkDgt                           Name          City State    Zip  \\\n",
       "0     1000014003                 ABC HOBBYCRAFT    EVANSVILLE    IN  47711   \n",
       "1     1000024006    LANDMARK BAR & GRILLE (THE)     NEW PARIS    IN  46526   \n",
       "2     1000034009          WHITLOCK DDS, TODD M.   BLOOMINGTON    IN  47401   \n",
       "3     1000044001  BIG BUCKS PAWN & JEWELRY, LLC  BROKEN ARROW    OK  74012   \n",
       "4     1000054004    ANASTASIA CONFECTIONS, INC.       ORLANDO    FL  32801   \n",
       "\n",
       "                            Bank BankState   NAICS ApprovalDate ApprovalFY  \\\n",
       "0               FIFTH THIRD BANK        OH  451120    28-Feb-97       1997   \n",
       "1                1ST SOURCE BANK        IN  722410    28-Feb-97       1997   \n",
       "2        GRANT COUNTY STATE BANK        IN  621210    28-Feb-97       1997   \n",
       "3  1ST NATL BK & TR CO OF BROKEN        OK       0    28-Feb-97       1997   \n",
       "4        FLORIDA BUS. DEVEL CORP        FL       0    28-Feb-97       1997   \n",
       "\n",
       "   Term  NoEmp  NewExist  CreateJob  RetainedJob  FranchiseCode  UrbanRural  \\\n",
       "0    84      4       2.0          0            0              1           0   \n",
       "1    60      2       2.0          0            0              1           0   \n",
       "2   180      7       1.0          0            0              1           0   \n",
       "3    60      2       1.0          0            0              1           0   \n",
       "4   240     14       1.0          7            7              1           0   \n",
       "\n",
       "  RevLineCr LowDoc ChgOffDate DisbursementDate DisbursementGross BalanceGross  \\\n",
       "0         N      Y        NaN        28-Feb-99       $60,000.00        $0.00    \n",
       "1         N      Y        NaN        31-May-97       $40,000.00        $0.00    \n",
       "2         N      N        NaN        31-Dec-97      $287,000.00        $0.00    \n",
       "3         N      Y        NaN        30-Jun-97       $35,000.00        $0.00    \n",
       "4         N      N        NaN        14-May-97      $229,000.00        $0.00    \n",
       "\n",
       "  MIS_Status ChgOffPrinGr        GrAppv      SBA_Appv  \n",
       "0      P I F       $0.00    $60,000.00    $48,000.00   \n",
       "1      P I F       $0.00    $40,000.00    $32,000.00   \n",
       "2      P I F       $0.00   $287,000.00   $215,250.00   \n",
       "3      P I F       $0.00    $35,000.00    $28,000.00   \n",
       "4      P I F       $0.00   $229,000.00   $229,000.00   "
      ]
     },
     "execution_count": 315,
     "metadata": {},
     "output_type": "execute_result"
    }
   ],
   "source": [
    "# read dataset\n",
    "\n",
    "df = pd.read_csv('SBAnational.csv')\n",
    "df.head()"
   ]
  },
  {
   "cell_type": "code",
   "execution_count": 316,
   "id": "52223445-8119-4be8-9198-159df1342a9f",
   "metadata": {},
   "outputs": [
    {
     "data": {
      "text/plain": [
       "(899164, 27)"
      ]
     },
     "execution_count": 316,
     "metadata": {},
     "output_type": "execute_result"
    }
   ],
   "source": [
    "df.shape"
   ]
  },
  {
   "cell_type": "code",
   "execution_count": 317,
   "id": "b203d798-35a7-4632-9d1a-0cf1cc490fa6",
   "metadata": {},
   "outputs": [
    {
     "data": {
      "text/html": [
       "<div>\n",
       "<style scoped>\n",
       "    .dataframe tbody tr th:only-of-type {\n",
       "        vertical-align: middle;\n",
       "    }\n",
       "\n",
       "    .dataframe tbody tr th {\n",
       "        vertical-align: top;\n",
       "    }\n",
       "\n",
       "    .dataframe thead th {\n",
       "        text-align: right;\n",
       "    }\n",
       "</style>\n",
       "<table border=\"1\" class=\"dataframe\">\n",
       "  <thead>\n",
       "    <tr style=\"text-align: right;\">\n",
       "      <th></th>\n",
       "      <th>LoanNr_ChkDgt</th>\n",
       "      <th>Name</th>\n",
       "      <th>City</th>\n",
       "      <th>State</th>\n",
       "      <th>Zip</th>\n",
       "      <th>Bank</th>\n",
       "      <th>BankState</th>\n",
       "      <th>NAICS</th>\n",
       "      <th>ApprovalDate</th>\n",
       "      <th>ApprovalFY</th>\n",
       "      <th>Term</th>\n",
       "      <th>NoEmp</th>\n",
       "      <th>NewExist</th>\n",
       "      <th>CreateJob</th>\n",
       "      <th>RetainedJob</th>\n",
       "      <th>FranchiseCode</th>\n",
       "      <th>UrbanRural</th>\n",
       "      <th>RevLineCr</th>\n",
       "      <th>LowDoc</th>\n",
       "      <th>ChgOffDate</th>\n",
       "      <th>DisbursementDate</th>\n",
       "      <th>DisbursementGross</th>\n",
       "      <th>BalanceGross</th>\n",
       "      <th>MIS_Status</th>\n",
       "      <th>ChgOffPrinGr</th>\n",
       "      <th>GrAppv</th>\n",
       "      <th>SBA_Appv</th>\n",
       "    </tr>\n",
       "  </thead>\n",
       "  <tbody>\n",
       "    <tr>\n",
       "      <th>614156</th>\n",
       "      <td>6106063001</td>\n",
       "      <td>UNION GRAND RENTAL STA., INC.</td>\n",
       "      <td>WEST SENECA</td>\n",
       "      <td>NY</td>\n",
       "      <td>14224</td>\n",
       "      <td>MANUFACTURERS &amp; TRADERS TR CO</td>\n",
       "      <td>NY</td>\n",
       "      <td>0</td>\n",
       "      <td>10-Dec-93</td>\n",
       "      <td>1994</td>\n",
       "      <td>84</td>\n",
       "      <td>2</td>\n",
       "      <td>2.0</td>\n",
       "      <td>0</td>\n",
       "      <td>0</td>\n",
       "      <td>1</td>\n",
       "      <td>0</td>\n",
       "      <td>N</td>\n",
       "      <td>N</td>\n",
       "      <td>NaN</td>\n",
       "      <td>30-Apr-94</td>\n",
       "      <td>$225,000.00</td>\n",
       "      <td>$0.00</td>\n",
       "      <td>P I F</td>\n",
       "      <td>$0.00</td>\n",
       "      <td>$225,000.00</td>\n",
       "      <td>$191,250.00</td>\n",
       "    </tr>\n",
       "    <tr>\n",
       "      <th>837937</th>\n",
       "      <td>8984934001</td>\n",
       "      <td>POPE INDRUSTRIES, INC.</td>\n",
       "      <td>ATKINSON</td>\n",
       "      <td>NH</td>\n",
       "      <td>3811</td>\n",
       "      <td>TD BANK, NATIONAL ASSOCIATION</td>\n",
       "      <td>DE</td>\n",
       "      <td>233320</td>\n",
       "      <td>14-Jul-05</td>\n",
       "      <td>2005</td>\n",
       "      <td>12</td>\n",
       "      <td>3</td>\n",
       "      <td>1.0</td>\n",
       "      <td>0</td>\n",
       "      <td>0</td>\n",
       "      <td>1</td>\n",
       "      <td>1</td>\n",
       "      <td>N</td>\n",
       "      <td>N</td>\n",
       "      <td>NaN</td>\n",
       "      <td>31-Mar-06</td>\n",
       "      <td>$1,000,000.00</td>\n",
       "      <td>$0.00</td>\n",
       "      <td>P I F</td>\n",
       "      <td>$0.00</td>\n",
       "      <td>$1,000,000.00</td>\n",
       "      <td>$750,000.00</td>\n",
       "    </tr>\n",
       "    <tr>\n",
       "      <th>766128</th>\n",
       "      <td>8048893003</td>\n",
       "      <td>HARKINS INVEST SOLUTIONS INC</td>\n",
       "      <td>DUNCANSVILLE</td>\n",
       "      <td>PA</td>\n",
       "      <td>16646</td>\n",
       "      <td>FIRST COMMONWEALTH BANK</td>\n",
       "      <td>PA</td>\n",
       "      <td>0</td>\n",
       "      <td>3-Feb-95</td>\n",
       "      <td>1995</td>\n",
       "      <td>60</td>\n",
       "      <td>3</td>\n",
       "      <td>2.0</td>\n",
       "      <td>0</td>\n",
       "      <td>0</td>\n",
       "      <td>1</td>\n",
       "      <td>0</td>\n",
       "      <td>N</td>\n",
       "      <td>Y</td>\n",
       "      <td>NaN</td>\n",
       "      <td>30-Apr-95</td>\n",
       "      <td>$30,800.00</td>\n",
       "      <td>$0.00</td>\n",
       "      <td>P I F</td>\n",
       "      <td>$0.00</td>\n",
       "      <td>$30,800.00</td>\n",
       "      <td>$25,564.00</td>\n",
       "    </tr>\n",
       "    <tr>\n",
       "      <th>414468</th>\n",
       "      <td>4005365002</td>\n",
       "      <td>HENRIKSEN CONTRACTING, LLC.</td>\n",
       "      <td>GRIMES</td>\n",
       "      <td>IA</td>\n",
       "      <td>50111</td>\n",
       "      <td>FEDERAL DEPOSIT INSUR CORP</td>\n",
       "      <td>IL</td>\n",
       "      <td>238990</td>\n",
       "      <td>1-Apr-10</td>\n",
       "      <td>2010</td>\n",
       "      <td>120</td>\n",
       "      <td>15</td>\n",
       "      <td>1.0</td>\n",
       "      <td>16</td>\n",
       "      <td>15</td>\n",
       "      <td>0</td>\n",
       "      <td>2</td>\n",
       "      <td>N</td>\n",
       "      <td>N</td>\n",
       "      <td>NaN</td>\n",
       "      <td>1-Oct-10</td>\n",
       "      <td>$235,000.00</td>\n",
       "      <td>$0.00</td>\n",
       "      <td>P I F</td>\n",
       "      <td>$0.00</td>\n",
       "      <td>$235,000.00</td>\n",
       "      <td>$211,500.00</td>\n",
       "    </tr>\n",
       "    <tr>\n",
       "      <th>214921</th>\n",
       "      <td>2518374005</td>\n",
       "      <td>J K TOOL &amp; MACHINE INC</td>\n",
       "      <td>PHOENIX</td>\n",
       "      <td>AZ</td>\n",
       "      <td>85009</td>\n",
       "      <td>MERIDIAN BANK NATL ASSOC</td>\n",
       "      <td>AZ</td>\n",
       "      <td>444130</td>\n",
       "      <td>24-Nov-98</td>\n",
       "      <td>1999</td>\n",
       "      <td>60</td>\n",
       "      <td>3</td>\n",
       "      <td>1.0</td>\n",
       "      <td>0</td>\n",
       "      <td>0</td>\n",
       "      <td>1</td>\n",
       "      <td>0</td>\n",
       "      <td>0</td>\n",
       "      <td>N</td>\n",
       "      <td>NaN</td>\n",
       "      <td>31-Jan-99</td>\n",
       "      <td>$50,000.00</td>\n",
       "      <td>$0.00</td>\n",
       "      <td>P I F</td>\n",
       "      <td>$0.00</td>\n",
       "      <td>$50,000.00</td>\n",
       "      <td>$37,500.00</td>\n",
       "    </tr>\n",
       "  </tbody>\n",
       "</table>\n",
       "</div>"
      ],
      "text/plain": [
       "        LoanNr_ChkDgt                           Name          City State  \\\n",
       "614156     6106063001  UNION GRAND RENTAL STA., INC.   WEST SENECA    NY   \n",
       "837937     8984934001         POPE INDRUSTRIES, INC.      ATKINSON    NH   \n",
       "766128     8048893003   HARKINS INVEST SOLUTIONS INC  DUNCANSVILLE    PA   \n",
       "414468     4005365002    HENRIKSEN CONTRACTING, LLC.        GRIMES    IA   \n",
       "214921     2518374005         J K TOOL & MACHINE INC       PHOENIX    AZ   \n",
       "\n",
       "          Zip                           Bank BankState   NAICS ApprovalDate  \\\n",
       "614156  14224  MANUFACTURERS & TRADERS TR CO        NY       0    10-Dec-93   \n",
       "837937   3811  TD BANK, NATIONAL ASSOCIATION        DE  233320    14-Jul-05   \n",
       "766128  16646        FIRST COMMONWEALTH BANK        PA       0     3-Feb-95   \n",
       "414468  50111     FEDERAL DEPOSIT INSUR CORP        IL  238990     1-Apr-10   \n",
       "214921  85009       MERIDIAN BANK NATL ASSOC        AZ  444130    24-Nov-98   \n",
       "\n",
       "       ApprovalFY  Term  NoEmp  NewExist  CreateJob  RetainedJob  \\\n",
       "614156       1994    84      2       2.0          0            0   \n",
       "837937       2005    12      3       1.0          0            0   \n",
       "766128       1995    60      3       2.0          0            0   \n",
       "414468       2010   120     15       1.0         16           15   \n",
       "214921       1999    60      3       1.0          0            0   \n",
       "\n",
       "        FranchiseCode  UrbanRural RevLineCr LowDoc ChgOffDate  \\\n",
       "614156              1           0         N      N        NaN   \n",
       "837937              1           1         N      N        NaN   \n",
       "766128              1           0         N      Y        NaN   \n",
       "414468              0           2         N      N        NaN   \n",
       "214921              1           0         0      N        NaN   \n",
       "\n",
       "       DisbursementDate DisbursementGross BalanceGross MIS_Status  \\\n",
       "614156        30-Apr-94      $225,000.00        $0.00       P I F   \n",
       "837937        31-Mar-06    $1,000,000.00        $0.00       P I F   \n",
       "766128        30-Apr-95       $30,800.00        $0.00       P I F   \n",
       "414468         1-Oct-10      $235,000.00        $0.00       P I F   \n",
       "214921        31-Jan-99       $50,000.00        $0.00       P I F   \n",
       "\n",
       "       ChgOffPrinGr          GrAppv      SBA_Appv  \n",
       "614156       $0.00     $225,000.00   $191,250.00   \n",
       "837937       $0.00   $1,000,000.00   $750,000.00   \n",
       "766128       $0.00      $30,800.00    $25,564.00   \n",
       "414468       $0.00     $235,000.00   $211,500.00   \n",
       "214921       $0.00      $50,000.00    $37,500.00   "
      ]
     },
     "execution_count": 317,
     "metadata": {},
     "output_type": "execute_result"
    }
   ],
   "source": [
    "# take random sample from whole data\n",
    "\n",
    "df_sample = df.sample(frac=0.2,random_state=42)\n",
    "df_sample.head()"
   ]
  },
  {
   "cell_type": "code",
   "execution_count": 318,
   "id": "75d5dc14-ab35-4284-b035-3d446793ccde",
   "metadata": {},
   "outputs": [
    {
     "data": {
      "text/plain": [
       "(179833, 27)"
      ]
     },
     "execution_count": 318,
     "metadata": {},
     "output_type": "execute_result"
    }
   ],
   "source": [
    "df_sample.shape"
   ]
  },
  {
   "cell_type": "markdown",
   "id": "2e885cd3-fc67-4574-ac9d-63d44792c7e6",
   "metadata": {},
   "source": [
    "### Breakdown of the columns and what they represent<br>\n",
    "**LoanNr_ChkDgt**: Loan number with a check digit.<br>\n",
    "<br>\n",
    "**Name**: Name of the borrower.<br>\n",
    "<br>\n",
    "**City**: City where the borrower is located.<br>\n",
    "<br>\n",
    "**State**: State where the borrower is located.<br>\n",
    "<br>\n",
    "**Zip**: Zip code of the borrower's location.<br>\n",
    "<br>\n",
    "**Bank**: Bank that issued the loan.<br>\n",
    "<br>\n",
    "**BankState**: State where the bank is located.<br>\n",
    "<br>\n",
    "**NAICS**: North American Industry Classification System code for the borrower's industry.<br>\n",
    "<br>\n",
    "**ApprovalDate**: Date the loan was approved.<br>\n",
    "<br>\n",
    "**ApprovalFY**: Fiscal year the loan was approved.<br>\n",
    "<br>\n",
    "**Term**: Loan term in months.<br>\n",
    "<br>\n",
    "**NoEmp**: Number of employees.<br>\n",
    "<br>\n",
    "**NewExist**: Whether the business is new (1) or existing (2).<br>\n",
    "<br>\n",
    "**CreateJob**: Number of jobs created with the loan.<br>\n",
    "<br>\n",
    "**RetainedJob**: Number of jobs retained with the loan.<br>\n",
    "<br>\n",
    "**FranchiseCode**: Whether the business is a franchise (1) or not (0).<br>\n",
    "<br>\n",
    "**UrbanRural**: Whether the location is urban (1) or rural (0).<br>\n",
    "<br>\n",
    "**RevLineCr**: Whether the loan is a revolving line of credit (Y) or not (N).<br>\n",
    "<br>\n",
    "**LowDoc**: Whether the loan is a low documentation loan (Y) or not (N).<br>\n",
    "<br>\n",
    "**ChgOffDate**: Date the loan was charged off, if applicable.<br>\n",
    "<br>\n",
    "**DisbursementDate**: Date the loan was disbursed.<br>\n",
    "<br>\n",
    "**DisbursementGross**: Amount disbursed.<br>\n",
    "<br>\n",
    "**BalanceGross**: Remaining balance of the loan.<br>\n",
    "<br>\n",
    "**MIS_Status**: Loan status (P I F means Paid in Full).<br>\n",
    "<br>\n",
    "**ChgOffPrinGr**: Charge-off principal gross amount.<br>\n",
    "<br>\n",
    "**GrAppv**: Gross amount approved.<br>\n",
    "<br>\n",
    "**SBA_Appv**: SBA-approved amount.<br>\n",
    "<br>"
   ]
  },
  {
   "cell_type": "code",
   "execution_count": 319,
   "id": "e502fe6c-1708-48eb-8e15-c0502cf5ccc2",
   "metadata": {
    "scrolled": true
   },
   "outputs": [
    {
     "data": {
      "text/plain": [
       "LoanNr_ChkDgt             0\n",
       "Name                      1\n",
       "City                      4\n",
       "State                     2\n",
       "Zip                       0\n",
       "Bank                    326\n",
       "BankState               326\n",
       "NAICS                     0\n",
       "ApprovalDate              0\n",
       "ApprovalFY                0\n",
       "Term                      0\n",
       "NoEmp                     0\n",
       "NewExist                 28\n",
       "CreateJob                 0\n",
       "RetainedJob               0\n",
       "FranchiseCode             0\n",
       "UrbanRural                0\n",
       "RevLineCr               912\n",
       "LowDoc                  516\n",
       "ChgOffDate           147420\n",
       "DisbursementDate        501\n",
       "DisbursementGross         0\n",
       "BalanceGross              0\n",
       "MIS_Status              418\n",
       "ChgOffPrinGr              0\n",
       "GrAppv                    0\n",
       "SBA_Appv                  0\n",
       "dtype: int64"
      ]
     },
     "execution_count": 319,
     "metadata": {},
     "output_type": "execute_result"
    }
   ],
   "source": [
    "# Missing value check\n",
    "\n",
    "df_sample.isnull().sum()"
   ]
  },
  {
   "cell_type": "code",
   "execution_count": 320,
   "id": "dae96334-35a2-4aa2-8386-3d10ca1b9fd8",
   "metadata": {
    "scrolled": true
   },
   "outputs": [
    {
     "name": "stdout",
     "output_type": "stream",
     "text": [
      "Dataset Information\n",
      "<class 'pandas.core.frame.DataFrame'>\n",
      "Index: 179833 entries, 614156 to 15414\n",
      "Data columns (total 27 columns):\n",
      " #   Column             Non-Null Count   Dtype  \n",
      "---  ------             --------------   -----  \n",
      " 0   LoanNr_ChkDgt      179833 non-null  int64  \n",
      " 1   Name               179832 non-null  object \n",
      " 2   City               179829 non-null  object \n",
      " 3   State              179831 non-null  object \n",
      " 4   Zip                179833 non-null  int64  \n",
      " 5   Bank               179507 non-null  object \n",
      " 6   BankState          179507 non-null  object \n",
      " 7   NAICS              179833 non-null  int64  \n",
      " 8   ApprovalDate       179833 non-null  object \n",
      " 9   ApprovalFY         179833 non-null  object \n",
      " 10  Term               179833 non-null  int64  \n",
      " 11  NoEmp              179833 non-null  int64  \n",
      " 12  NewExist           179805 non-null  float64\n",
      " 13  CreateJob          179833 non-null  int64  \n",
      " 14  RetainedJob        179833 non-null  int64  \n",
      " 15  FranchiseCode      179833 non-null  int64  \n",
      " 16  UrbanRural         179833 non-null  int64  \n",
      " 17  RevLineCr          178921 non-null  object \n",
      " 18  LowDoc             179317 non-null  object \n",
      " 19  ChgOffDate         32413 non-null   object \n",
      " 20  DisbursementDate   179332 non-null  object \n",
      " 21  DisbursementGross  179833 non-null  object \n",
      " 22  BalanceGross       179833 non-null  object \n",
      " 23  MIS_Status         179415 non-null  object \n",
      " 24  ChgOffPrinGr       179833 non-null  object \n",
      " 25  GrAppv             179833 non-null  object \n",
      " 26  SBA_Appv           179833 non-null  object \n",
      "dtypes: float64(1), int64(9), object(17)\n",
      "memory usage: 38.4+ MB\n",
      "None\n"
     ]
    }
   ],
   "source": [
    "print('Dataset Information')\n",
    "print(df_sample.info())"
   ]
  },
  {
   "cell_type": "code",
   "execution_count": 321,
   "id": "e4cbf38c-a1f3-4ac5-ad1d-e7e273db6eae",
   "metadata": {},
   "outputs": [],
   "source": [
    "# Function to clean the 'ApprovalFY' column\n",
    "def clean_year(year):\n",
    "    if isinstance(year, str):  # Ensure the year is a string\n",
    "        # Remove non-numeric characters\n",
    "        cleaned_year = ''.join(filter(str.isdigit, year))\n",
    "        return int(cleaned_year) if cleaned_year else None\n",
    "    return year  # Return the year as is if it's already an integer\n",
    "\n",
    "# Apply the cleaning function to the 'ApprovalFY' column\n",
    "df_sample['ApprovalFY'] = df_sample['ApprovalFY'].apply(clean_year)"
   ]
  },
  {
   "cell_type": "code",
   "execution_count": 322,
   "id": "7379af41-dd1e-4ff1-89ae-05116abb7c38",
   "metadata": {},
   "outputs": [
    {
     "data": {
      "application/javascript": [
       "\n",
       "        if (window._pyforest_update_imports_cell) { window._pyforest_update_imports_cell('import numpy as np\\nimport matplotlib.pyplot as plt\\nfrom sklearn.linear_model import LogisticRegression\\nfrom sklearn.preprocessing import StandardScaler\\nfrom sklearn.model_selection import GridSearchCV\\nimport pandas as pd\\nimport seaborn as sns\\nfrom sklearn.model_selection import cross_val_score'); }\n",
       "    "
      ],
      "text/plain": [
       "<IPython.core.display.Javascript object>"
      ]
     },
     "metadata": {},
     "output_type": "display_data"
    },
    {
     "data": {
      "application/javascript": [
       "\n",
       "        if (window._pyforest_update_imports_cell) { window._pyforest_update_imports_cell('import numpy as np\\nimport matplotlib.pyplot as plt\\nfrom sklearn.linear_model import LogisticRegression\\nfrom sklearn.preprocessing import StandardScaler\\nfrom sklearn.model_selection import GridSearchCV\\nimport pandas as pd\\nimport seaborn as sns\\nfrom sklearn.model_selection import cross_val_score'); }\n",
       "    "
      ],
      "text/plain": [
       "<IPython.core.display.Javascript object>"
      ]
     },
     "metadata": {},
     "output_type": "display_data"
    },
    {
     "data": {
      "application/javascript": [
       "\n",
       "        if (window._pyforest_update_imports_cell) { window._pyforest_update_imports_cell('import numpy as np\\nimport matplotlib.pyplot as plt\\nfrom sklearn.linear_model import LogisticRegression\\nfrom sklearn.preprocessing import StandardScaler\\nfrom sklearn.model_selection import GridSearchCV\\nimport pandas as pd\\nimport seaborn as sns\\nfrom sklearn.model_selection import cross_val_score'); }\n",
       "    "
      ],
      "text/plain": [
       "<IPython.core.display.Javascript object>"
      ]
     },
     "metadata": {},
     "output_type": "display_data"
    }
   ],
   "source": [
    "## consistency of date formats\n",
    "\n",
    "date_columns = ['ApprovalDate','ChgOffDate', 'DisbursementDate']\n",
    "for col in date_columns:\n",
    "    if col in df_sample.columns:\n",
    "        df_sample[col] = pd.to_datetime(df_sample[col])"
   ]
  },
  {
   "cell_type": "code",
   "execution_count": 323,
   "id": "a36961bb-fb62-4989-a05a-a9dfd91131c4",
   "metadata": {
    "scrolled": true
   },
   "outputs": [
    {
     "data": {
      "text/plain": [
       "LoanNr_ChkDgt                 int64\n",
       "Name                         object\n",
       "City                         object\n",
       "State                        object\n",
       "Zip                           int64\n",
       "Bank                         object\n",
       "BankState                    object\n",
       "NAICS                         int64\n",
       "ApprovalDate         datetime64[ns]\n",
       "ApprovalFY                    int64\n",
       "Term                          int64\n",
       "NoEmp                         int64\n",
       "NewExist                    float64\n",
       "CreateJob                     int64\n",
       "RetainedJob                   int64\n",
       "FranchiseCode                 int64\n",
       "UrbanRural                    int64\n",
       "RevLineCr                    object\n",
       "LowDoc                       object\n",
       "ChgOffDate           datetime64[ns]\n",
       "DisbursementDate     datetime64[ns]\n",
       "DisbursementGross            object\n",
       "BalanceGross                 object\n",
       "MIS_Status                   object\n",
       "ChgOffPrinGr                 object\n",
       "GrAppv                       object\n",
       "SBA_Appv                     object\n",
       "dtype: object"
      ]
     },
     "execution_count": 323,
     "metadata": {},
     "output_type": "execute_result"
    }
   ],
   "source": [
    "df_sample.dtypes"
   ]
  },
  {
   "cell_type": "code",
   "execution_count": 324,
   "id": "2f2f59a1-6570-4d10-9e05-af6122bfd638",
   "metadata": {},
   "outputs": [
    {
     "data": {
      "text/plain": [
       "NAICS\n",
       "0         40428\n",
       "722110     5556\n",
       "722211     3850\n",
       "811111     2897\n",
       "621210     2877\n",
       "          ...  \n",
       "513340        1\n",
       "922190        1\n",
       "813940        1\n",
       "111940        1\n",
       "311213        1\n",
       "Name: count, Length: 1242, dtype: int64"
      ]
     },
     "execution_count": 324,
     "metadata": {},
     "output_type": "execute_result"
    }
   ],
   "source": [
    "df_sample['NAICS'].value_counts()"
   ]
  },
  {
   "cell_type": "markdown",
   "id": "9847d184-6f31-4af0-aa7d-35bd18f6a00e",
   "metadata": {},
   "source": [
    "### Function for validity of NAICS code"
   ]
  },
  {
   "cell_type": "code",
   "execution_count": 325,
   "id": "976e59b7-75ac-4e36-a7da-32a65f36c9b4",
   "metadata": {},
   "outputs": [
    {
     "data": {
      "text/plain": [
       "{'valid_count': 139405,\n",
       " 'invalid_count': 40428,\n",
       " 'invalid_samples':         NAICS\n",
       " 614156      0\n",
       " 766128      0\n",
       " 824351      0\n",
       " 667036      0\n",
       " 805035      0}"
      ]
     },
     "execution_count": 325,
     "metadata": {},
     "output_type": "execute_result"
    }
   ],
   "source": [
    "def validate_naics(df_sample, column='NAICS'):\n",
    "\n",
    "    # Convert to string and check if it follows the 6-digit format\n",
    "    is_valid_naics = df_sample[column].astype(str).str.match(r'^\\d{6}$')\n",
    "\n",
    "    # Count valid and invalid NAICS codes\n",
    "    valid_count = is_valid_naics.sum()\n",
    "    invalid_count = (~is_valid_naics).sum()\n",
    "\n",
    "    # Get sample of invalid NAICS values\n",
    "    invalid_entries = df_sample.loc[~is_valid_naics, [column]].head()\n",
    "\n",
    "    return {\n",
    "        \"valid_count\": valid_count,\n",
    "        \"invalid_count\": invalid_count,\n",
    "        \"invalid_samples\": invalid_entries\n",
    "    }\n",
    "\n",
    "result = validate_naics(df_sample)\n",
    "result"
   ]
  },
  {
   "cell_type": "markdown",
   "id": "f35dbb22-d5d0-4d32-8263-eaa5b4baac35",
   "metadata": {},
   "source": [
    "# checking for inconsistent values"
   ]
  },
  {
   "cell_type": "code",
   "execution_count": 326,
   "id": "d3d36931-b7e4-430f-acd2-bb1180133506",
   "metadata": {},
   "outputs": [
    {
     "data": {
      "text/plain": [
       "GrAppv        SBA_Appv      ChgOffPrinGr  DisbursementGross  BalanceGross\n",
       "$50,000.00    $25,000.00    $0.00         $50,000.00         $0.00           3484\n",
       "$25,000.00    $12,500.00    $0.00         $25,000.00         $0.00           2465\n",
       "$10,000.00    $5,000.00     $0.00         $10,000.00         $0.00           2183\n",
       "$100,000.00   $80,000.00    $0.00         $100,000.00        $0.00           1881\n",
       "              $50,000.00    $0.00         $100,000.00        $0.00           1665\n",
       "                                                                             ... \n",
       "$209,000.00   $209,000.00   $0.00         $206,000.00        $0.00              1\n",
       "$209,300.00   $156,975.00   $0.00         $209,300.00        $0.00              1\n",
       "                            $119,209.00   $209,300.00        $0.00              1\n",
       "$209,484.00   $157,113.00   $0.00         $209,484.00        $0.00              1\n",
       "$999,900.00   $749,925.00   $0.00         $999,900.00        $0.00              1\n",
       "Name: count, Length: 74520, dtype: int64"
      ]
     },
     "execution_count": 326,
     "metadata": {},
     "output_type": "execute_result"
    }
   ],
   "source": [
    "# columns 'GrAppv','SBA_Appv','ChgOffPrinGr','DisbursementGross','BalanceGross'\n",
    "\n",
    "df_sample[['GrAppv','SBA_Appv','ChgOffPrinGr','DisbursementGross','BalanceGross']].value_counts()"
   ]
  },
  {
   "cell_type": "code",
   "execution_count": 327,
   "id": "ca768aac-f989-46d4-b2e8-6831c4d46de6",
   "metadata": {},
   "outputs": [],
   "source": [
    "columns_to_remove = ['GrAppv', 'SBA_Appv', 'ChgOffPrinGr', 'DisbursementGross', 'BalanceGross']\n",
    "\n",
    "def clean_column(df_sample, column_name):\n",
    "    df_sample[column_name] = df_sample[column_name].str.replace('$', '').str.replace(',', '').astype(float)\n",
    "    return df_sample\n",
    "\n",
    "def clean_columns(df_sample, columns):\n",
    "    for column in columns:\n",
    "        df_sample = clean_column(df_sample, column)\n",
    "    return df_sample\n",
    "\n",
    "df_sample = clean_columns(df_sample, columns_to_remove)"
   ]
  },
  {
   "cell_type": "code",
   "execution_count": 328,
   "id": "0fb91a14-0349-43d2-9d6d-95ad3d4e17b7",
   "metadata": {
    "scrolled": true
   },
   "outputs": [
    {
     "data": {
      "text/plain": [
       "GrAppv    SBA_Appv  ChgOffPrinGr  DisbursementGross  BalanceGross\n",
       "50000.0   25000.0   0.0           50000.0            0.0             3484\n",
       "25000.0   12500.0   0.0           25000.0            0.0             2465\n",
       "10000.0   5000.0    0.0           10000.0            0.0             2183\n",
       "100000.0  80000.0   0.0           100000.0           0.0             1881\n",
       "          50000.0   0.0           100000.0           0.0             1665\n",
       "                                                                     ... \n",
       "40000.0   20000.0   0.0           57000.0            0.0                1\n",
       "                                  57173.0            0.0                1\n",
       "                                  57262.0            0.0                1\n",
       "                                  57328.0            0.0                1\n",
       "66395.0   56435.0   32892.0       66395.0            0.0                1\n",
       "Name: count, Length: 74520, dtype: int64"
      ]
     },
     "execution_count": 328,
     "metadata": {},
     "output_type": "execute_result"
    }
   ],
   "source": [
    "df_sample[['GrAppv','SBA_Appv','ChgOffPrinGr','DisbursementGross','BalanceGross']].value_counts()"
   ]
  },
  {
   "cell_type": "code",
   "execution_count": 329,
   "id": "ad768e48-b086-4e9c-9e79-0750d2b8d2d4",
   "metadata": {},
   "outputs": [
    {
     "data": {
      "text/plain": [
       "BalanceGross\n",
       "0.0         179830\n",
       "827875.0         1\n",
       "96908.0          1\n",
       "1760.0           1\n",
       "Name: count, dtype: int64"
      ]
     },
     "execution_count": 329,
     "metadata": {},
     "output_type": "execute_result"
    }
   ],
   "source": [
    "df_sample['BalanceGross'].value_counts()"
   ]
  },
  {
   "cell_type": "code",
   "execution_count": 330,
   "id": "636220b5-9a2b-4d21-a6f0-17d4caaaae4c",
   "metadata": {},
   "outputs": [],
   "source": [
    "## Drop BalanceGross\n",
    "df_sample.drop('BalanceGross',axis=1,inplace=True)"
   ]
  },
  {
   "cell_type": "markdown",
   "id": "6ff36955-3301-41e6-9f12-32fccf277dfb",
   "metadata": {},
   "source": [
    "**Portion:** This variable represents the percentage of a loan guaranteed by the SBA. It is calculated as the ratio of the amount of the loan SBA guarantees to the gross amount approved by the bank (SBA_Appv/GrAppv). The \"Portion\" variable helps in assessing risk because loans that are paid in full tend to have a slightly higher SBA-guaranteed percentage.<br>\n",
    "In the dataset, the median for defaulted loans is 0.5, which means that half of the loan amount is guaranteed by the SBA for 54% of defaulted loans"
   ]
  },
  {
   "cell_type": "markdown",
   "id": "0114ce53-8494-4c45-90c8-03912fa79655",
   "metadata": {},
   "source": [
    "**RealEstate:** This is a dummy variable that indicates whether a loan is backed by real estate. A value of 1 means the loan is backed by real estate, and a value of 0 means it is not. The rationale behind using this variable is that real estate value is often enough to cover any outstanding principal, thus reducing the probability of default<br>\n",
    "* \n",
    "Loans backed by Real Estate typically have terms of 20 years or greater, while loans not backed by Real Estate have terms less than 20 years.<br>* \n",
    "Loans backed by Real Estate have a significantly lower default rate compared to loans not backed by Real Estate.\n",
    ".\n",
    "6%)"
   ]
  },
  {
   "cell_type": "code",
   "execution_count": 331,
   "id": "52e3b2db-01f0-4c70-97e9-59ef09bf11e5",
   "metadata": {},
   "outputs": [],
   "source": [
    "# 'Portion' variable\n",
    "df_sample['Portion'] = df_sample['SBA_Appv'] / df_sample['GrAppv']\n",
    "\n",
    "# 'RealEstate' variable\n",
    "df_sample['RealEstate'] = df_sample['Term'].apply(lambda x: 1 if x >= 240 else 0)"
   ]
  },
  {
   "cell_type": "code",
   "execution_count": 332,
   "id": "ffbe7386-103d-4a92-b4f7-4001c95fd6da",
   "metadata": {},
   "outputs": [
    {
     "data": {
      "text/html": [
       "<div>\n",
       "<style scoped>\n",
       "    .dataframe tbody tr th:only-of-type {\n",
       "        vertical-align: middle;\n",
       "    }\n",
       "\n",
       "    .dataframe tbody tr th {\n",
       "        vertical-align: top;\n",
       "    }\n",
       "\n",
       "    .dataframe thead th {\n",
       "        text-align: right;\n",
       "    }\n",
       "</style>\n",
       "<table border=\"1\" class=\"dataframe\">\n",
       "  <thead>\n",
       "    <tr style=\"text-align: right;\">\n",
       "      <th></th>\n",
       "      <th>LoanNr_ChkDgt</th>\n",
       "      <th>Name</th>\n",
       "      <th>City</th>\n",
       "      <th>State</th>\n",
       "      <th>Zip</th>\n",
       "      <th>Bank</th>\n",
       "      <th>BankState</th>\n",
       "      <th>NAICS</th>\n",
       "      <th>ApprovalDate</th>\n",
       "      <th>ApprovalFY</th>\n",
       "      <th>Term</th>\n",
       "      <th>NoEmp</th>\n",
       "      <th>NewExist</th>\n",
       "      <th>CreateJob</th>\n",
       "      <th>RetainedJob</th>\n",
       "      <th>FranchiseCode</th>\n",
       "      <th>UrbanRural</th>\n",
       "      <th>RevLineCr</th>\n",
       "      <th>LowDoc</th>\n",
       "      <th>ChgOffDate</th>\n",
       "      <th>DisbursementDate</th>\n",
       "      <th>DisbursementGross</th>\n",
       "      <th>MIS_Status</th>\n",
       "      <th>ChgOffPrinGr</th>\n",
       "      <th>GrAppv</th>\n",
       "      <th>SBA_Appv</th>\n",
       "      <th>Portion</th>\n",
       "      <th>RealEstate</th>\n",
       "    </tr>\n",
       "  </thead>\n",
       "  <tbody>\n",
       "    <tr>\n",
       "      <th>614156</th>\n",
       "      <td>6106063001</td>\n",
       "      <td>UNION GRAND RENTAL STA., INC.</td>\n",
       "      <td>WEST SENECA</td>\n",
       "      <td>NY</td>\n",
       "      <td>14224</td>\n",
       "      <td>MANUFACTURERS &amp; TRADERS TR CO</td>\n",
       "      <td>NY</td>\n",
       "      <td>0</td>\n",
       "      <td>1993-12-10</td>\n",
       "      <td>1994</td>\n",
       "      <td>84</td>\n",
       "      <td>2</td>\n",
       "      <td>2.0</td>\n",
       "      <td>0</td>\n",
       "      <td>0</td>\n",
       "      <td>1</td>\n",
       "      <td>0</td>\n",
       "      <td>N</td>\n",
       "      <td>N</td>\n",
       "      <td>NaT</td>\n",
       "      <td>1994-04-30</td>\n",
       "      <td>225000.0</td>\n",
       "      <td>P I F</td>\n",
       "      <td>0.0</td>\n",
       "      <td>225000.0</td>\n",
       "      <td>191250.0</td>\n",
       "      <td>0.85</td>\n",
       "      <td>0</td>\n",
       "    </tr>\n",
       "    <tr>\n",
       "      <th>837937</th>\n",
       "      <td>8984934001</td>\n",
       "      <td>POPE INDRUSTRIES, INC.</td>\n",
       "      <td>ATKINSON</td>\n",
       "      <td>NH</td>\n",
       "      <td>3811</td>\n",
       "      <td>TD BANK, NATIONAL ASSOCIATION</td>\n",
       "      <td>DE</td>\n",
       "      <td>233320</td>\n",
       "      <td>2005-07-14</td>\n",
       "      <td>2005</td>\n",
       "      <td>12</td>\n",
       "      <td>3</td>\n",
       "      <td>1.0</td>\n",
       "      <td>0</td>\n",
       "      <td>0</td>\n",
       "      <td>1</td>\n",
       "      <td>1</td>\n",
       "      <td>N</td>\n",
       "      <td>N</td>\n",
       "      <td>NaT</td>\n",
       "      <td>2006-03-31</td>\n",
       "      <td>1000000.0</td>\n",
       "      <td>P I F</td>\n",
       "      <td>0.0</td>\n",
       "      <td>1000000.0</td>\n",
       "      <td>750000.0</td>\n",
       "      <td>0.75</td>\n",
       "      <td>0</td>\n",
       "    </tr>\n",
       "  </tbody>\n",
       "</table>\n",
       "</div>"
      ],
      "text/plain": [
       "        LoanNr_ChkDgt                           Name         City State  \\\n",
       "614156     6106063001  UNION GRAND RENTAL STA., INC.  WEST SENECA    NY   \n",
       "837937     8984934001         POPE INDRUSTRIES, INC.     ATKINSON    NH   \n",
       "\n",
       "          Zip                           Bank BankState   NAICS ApprovalDate  \\\n",
       "614156  14224  MANUFACTURERS & TRADERS TR CO        NY       0   1993-12-10   \n",
       "837937   3811  TD BANK, NATIONAL ASSOCIATION        DE  233320   2005-07-14   \n",
       "\n",
       "        ApprovalFY  Term  NoEmp  NewExist  CreateJob  RetainedJob  \\\n",
       "614156        1994    84      2       2.0          0            0   \n",
       "837937        2005    12      3       1.0          0            0   \n",
       "\n",
       "        FranchiseCode  UrbanRural RevLineCr LowDoc ChgOffDate  \\\n",
       "614156              1           0         N      N        NaT   \n",
       "837937              1           1         N      N        NaT   \n",
       "\n",
       "       DisbursementDate  DisbursementGross MIS_Status  ChgOffPrinGr  \\\n",
       "614156       1994-04-30           225000.0      P I F           0.0   \n",
       "837937       2006-03-31          1000000.0      P I F           0.0   \n",
       "\n",
       "           GrAppv  SBA_Appv  Portion  RealEstate  \n",
       "614156   225000.0  191250.0     0.85           0  \n",
       "837937  1000000.0  750000.0     0.75           0  "
      ]
     },
     "execution_count": 332,
     "metadata": {},
     "output_type": "execute_result"
    }
   ],
   "source": [
    "df_sample.head(2)"
   ]
  },
  {
   "cell_type": "markdown",
   "id": "8d81931c-4260-441e-b8a4-8251cfdb6664",
   "metadata": {},
   "source": [
    "**RevLineCr:** This variable indicates whether the loan is a revolving line of credit. It is a text field with \"Y\" denoting \"Yes\" and \"N\" denoting \"No\". This variable could be relevant because a revolving line of credit might suggest a different risk profile than a standard loan. "
   ]
  },
  {
   "cell_type": "markdown",
   "id": "a63c9858-3506-4b0e-8a99-590e0a20dc9b",
   "metadata": {},
   "source": [
    "**LowDoc:** This variable indicates whether the loan was processed under the \"LowDoc Loan\" program, which was implemented to process loans under $150,000 more efficiently using a one-page application. \"Y\" denotes \"Yes\" (one-page application), and \"N\" denotes \"No\" (more information attached to the application)"
   ]
  },
  {
   "cell_type": "code",
   "execution_count": 333,
   "id": "4e275c0e-d5eb-40b6-8a5f-3d3d139b505d",
   "metadata": {
    "scrolled": true
   },
   "outputs": [
    {
     "data": {
      "application/javascript": [
       "\n",
       "        if (window._pyforest_update_imports_cell) { window._pyforest_update_imports_cell('import numpy as np\\nimport matplotlib.pyplot as plt\\nfrom sklearn.linear_model import LogisticRegression\\nfrom sklearn.preprocessing import StandardScaler\\nfrom sklearn.model_selection import GridSearchCV\\nimport pandas as pd\\nimport seaborn as sns\\nfrom sklearn.model_selection import cross_val_score'); }\n",
       "    "
      ],
      "text/plain": [
       "<IPython.core.display.Javascript object>"
      ]
     },
     "metadata": {},
     "output_type": "display_data"
    },
    {
     "data": {
      "application/javascript": [
       "\n",
       "        if (window._pyforest_update_imports_cell) { window._pyforest_update_imports_cell('import numpy as np\\nimport matplotlib.pyplot as plt\\nfrom sklearn.linear_model import LogisticRegression\\nfrom sklearn.preprocessing import StandardScaler\\nfrom sklearn.model_selection import GridSearchCV\\nimport pandas as pd\\nimport seaborn as sns\\nfrom sklearn.model_selection import cross_val_score'); }\n",
       "    "
      ],
      "text/plain": [
       "<IPython.core.display.Javascript object>"
      ]
     },
     "metadata": {},
     "output_type": "display_data"
    }
   ],
   "source": [
    "# Function to filter values that are not 'Y' or 'N'\n",
    "df_sample.loc[~df_sample['RevLineCr'].isin(['Y', 'N']), 'RevLineCr'] = np.nan\n",
    "df_sample.loc[~df_sample['LowDoc'].isin(['Y', 'N']), 'LowDoc'] = np.nan"
   ]
  },
  {
   "cell_type": "markdown",
   "id": "9dc70cc1-6798-4788-b5af-25e3a79541b1",
   "metadata": {},
   "source": [
    "### Remove unnecessary categorical columns"
   ]
  },
  {
   "cell_type": "markdown",
   "id": "39f79ff9-5886-4cc8-b492-a66ad5c89694",
   "metadata": {},
   "source": [
    "The columns 'LoanNr_ChkDgt', 'Name', 'City', 'State', 'Zip', 'Bank', 'BankState', 'NAICS', and 'FranchiseCode' can be considered for removal because they are not directly used as explanatory variables."
   ]
  },
  {
   "cell_type": "code",
   "execution_count": 334,
   "id": "54792da6-0759-44a6-940c-8aea16f6d468",
   "metadata": {},
   "outputs": [],
   "source": [
    "df_sample = df_sample.drop(columns=['LoanNr_ChkDgt', 'Name', 'City', 'State', 'Zip', 'Bank', 'BankState', 'NAICS', 'FranchiseCode'])"
   ]
  },
  {
   "cell_type": "code",
   "execution_count": 335,
   "id": "9e6e7408-ea64-46db-846c-3c22454d594e",
   "metadata": {},
   "outputs": [
    {
     "data": {
      "text/plain": [
       "LowDoc\n",
       "N    156303\n",
       "Y     22298\n",
       "Name: count, dtype: int64"
      ]
     },
     "execution_count": 335,
     "metadata": {},
     "output_type": "execute_result"
    }
   ],
   "source": [
    "df_sample['LowDoc'].value_counts()"
   ]
  },
  {
   "cell_type": "code",
   "execution_count": 336,
   "id": "d136cfeb-4b06-4910-ab57-df0d01e67e35",
   "metadata": {},
   "outputs": [],
   "source": [
    "df_sample.drop('LowDoc',axis=1,inplace=True)"
   ]
  },
  {
   "cell_type": "markdown",
   "id": "e9cb2d60-fa42-4c27-9729-f87715020ea4",
   "metadata": {},
   "source": [
    "### replacing NaN values with the mode"
   ]
  },
  {
   "cell_type": "code",
   "execution_count": 337,
   "id": "6855ad59-a00e-41d2-a008-a4ad8c7c8e5c",
   "metadata": {},
   "outputs": [
    {
     "data": {
      "text/plain": [
       "NewExist  RevLineCr  MIS_Status\n",
       "1.0       N          P I F         50394\n",
       "          Y          P I F         23601\n",
       "2.0       N          P I F         20881\n",
       "1.0       Y          CHGOFF         8285\n",
       "          N          CHGOFF         7870\n",
       "2.0       Y          P I F          6529\n",
       "          N          CHGOFF         4269\n",
       "          Y          CHGOFF         1972\n",
       "0.0       N          P I F           190\n",
       "                     CHGOFF           11\n",
       "          Y          P I F             5\n",
       "Name: count, dtype: int64"
      ]
     },
     "execution_count": 337,
     "metadata": {},
     "output_type": "execute_result"
    }
   ],
   "source": [
    "# columns_to_check = 'NewExist', 'RevLineCr', 'MIS_Status'\n",
    "\n",
    "df_sample[['NewExist', 'RevLineCr', 'MIS_Status']].value_counts()"
   ]
  },
  {
   "cell_type": "code",
   "execution_count": 338,
   "id": "5883c755-e149-4699-bbae-747977283b98",
   "metadata": {},
   "outputs": [
    {
     "name": "stdout",
     "output_type": "stream",
     "text": [
      "NewExist      0\n",
      "RevLineCr     0\n",
      "MIS_Status    0\n",
      "dtype: int64\n"
     ]
    }
   ],
   "source": [
    "columns_to_check = ['NewExist', 'RevLineCr', 'MIS_Status']\n",
    "\n",
    "# Fill missing values with the mode for each column\n",
    "df_sample[columns_to_check] = df_sample[columns_to_check].apply(lambda x: x.fillna(x.mode()[0]))\n",
    "\n",
    "# Verify that there are no NaN values\n",
    "print(df_sample[columns_to_check].isnull().sum())"
   ]
  },
  {
   "cell_type": "code",
   "execution_count": 339,
   "id": "887f2382-ed6a-4902-9efb-009fd62e96c7",
   "metadata": {},
   "outputs": [],
   "source": [
    "# make copy of orignal dataframe\n",
    "\n",
    "data = df_sample.copy()"
   ]
  },
  {
   "cell_type": "markdown",
   "id": "27380cd9-07d5-46ca-a6b7-a26dc466e80f",
   "metadata": {},
   "source": [
    "### Dropping date columns"
   ]
  },
  {
   "cell_type": "code",
   "execution_count": 340,
   "id": "0b614a71-2dfb-44ee-a0e5-11ca35c31ba8",
   "metadata": {},
   "outputs": [],
   "source": [
    "data = data.drop(columns=['DisbursementDate', 'ChgOffDate', 'ApprovalDate', 'ApprovalFY'])"
   ]
  },
  {
   "cell_type": "code",
   "execution_count": 341,
   "id": "b324e56a-b866-4846-b013-07cc7dfe3427",
   "metadata": {},
   "outputs": [
    {
     "data": {
      "text/plain": [
       "MIS_Status\n",
       "P I F     148458\n",
       "CHGOFF     31375\n",
       "Name: count, dtype: int64"
      ]
     },
     "execution_count": 341,
     "metadata": {},
     "output_type": "execute_result"
    }
   ],
   "source": [
    "data['MIS_Status'].value_counts()"
   ]
  },
  {
   "cell_type": "code",
   "execution_count": 342,
   "id": "d38d917c-586c-48d7-bd4a-03e344f8a3f9",
   "metadata": {},
   "outputs": [
    {
     "data": {
      "text/html": [
       "<div>\n",
       "<style scoped>\n",
       "    .dataframe tbody tr th:only-of-type {\n",
       "        vertical-align: middle;\n",
       "    }\n",
       "\n",
       "    .dataframe tbody tr th {\n",
       "        vertical-align: top;\n",
       "    }\n",
       "\n",
       "    .dataframe thead th {\n",
       "        text-align: right;\n",
       "    }\n",
       "</style>\n",
       "<table border=\"1\" class=\"dataframe\">\n",
       "  <thead>\n",
       "    <tr style=\"text-align: right;\">\n",
       "      <th></th>\n",
       "      <th>Term</th>\n",
       "      <th>NoEmp</th>\n",
       "      <th>NewExist</th>\n",
       "      <th>CreateJob</th>\n",
       "      <th>RetainedJob</th>\n",
       "      <th>UrbanRural</th>\n",
       "      <th>RevLineCr</th>\n",
       "      <th>DisbursementGross</th>\n",
       "      <th>MIS_Status</th>\n",
       "      <th>ChgOffPrinGr</th>\n",
       "      <th>GrAppv</th>\n",
       "      <th>SBA_Appv</th>\n",
       "      <th>Portion</th>\n",
       "      <th>RealEstate</th>\n",
       "    </tr>\n",
       "  </thead>\n",
       "  <tbody>\n",
       "    <tr>\n",
       "      <th>614156</th>\n",
       "      <td>84</td>\n",
       "      <td>2</td>\n",
       "      <td>2.0</td>\n",
       "      <td>0</td>\n",
       "      <td>0</td>\n",
       "      <td>0</td>\n",
       "      <td>N</td>\n",
       "      <td>225000.0</td>\n",
       "      <td>P I F</td>\n",
       "      <td>0.0</td>\n",
       "      <td>225000.0</td>\n",
       "      <td>191250.0</td>\n",
       "      <td>0.85</td>\n",
       "      <td>0</td>\n",
       "    </tr>\n",
       "    <tr>\n",
       "      <th>837937</th>\n",
       "      <td>12</td>\n",
       "      <td>3</td>\n",
       "      <td>1.0</td>\n",
       "      <td>0</td>\n",
       "      <td>0</td>\n",
       "      <td>1</td>\n",
       "      <td>N</td>\n",
       "      <td>1000000.0</td>\n",
       "      <td>P I F</td>\n",
       "      <td>0.0</td>\n",
       "      <td>1000000.0</td>\n",
       "      <td>750000.0</td>\n",
       "      <td>0.75</td>\n",
       "      <td>0</td>\n",
       "    </tr>\n",
       "    <tr>\n",
       "      <th>766128</th>\n",
       "      <td>60</td>\n",
       "      <td>3</td>\n",
       "      <td>2.0</td>\n",
       "      <td>0</td>\n",
       "      <td>0</td>\n",
       "      <td>0</td>\n",
       "      <td>N</td>\n",
       "      <td>30800.0</td>\n",
       "      <td>P I F</td>\n",
       "      <td>0.0</td>\n",
       "      <td>30800.0</td>\n",
       "      <td>25564.0</td>\n",
       "      <td>0.83</td>\n",
       "      <td>0</td>\n",
       "    </tr>\n",
       "  </tbody>\n",
       "</table>\n",
       "</div>"
      ],
      "text/plain": [
       "        Term  NoEmp  NewExist  CreateJob  RetainedJob  UrbanRural RevLineCr  \\\n",
       "614156    84      2       2.0          0            0           0         N   \n",
       "837937    12      3       1.0          0            0           1         N   \n",
       "766128    60      3       2.0          0            0           0         N   \n",
       "\n",
       "        DisbursementGross MIS_Status  ChgOffPrinGr     GrAppv  SBA_Appv  \\\n",
       "614156           225000.0      P I F           0.0   225000.0  191250.0   \n",
       "837937          1000000.0      P I F           0.0  1000000.0  750000.0   \n",
       "766128            30800.0      P I F           0.0    30800.0   25564.0   \n",
       "\n",
       "        Portion  RealEstate  \n",
       "614156     0.85           0  \n",
       "837937     0.75           0  \n",
       "766128     0.83           0  "
      ]
     },
     "execution_count": 342,
     "metadata": {},
     "output_type": "execute_result"
    }
   ],
   "source": [
    "data.head(3)"
   ]
  },
  {
   "cell_type": "markdown",
   "id": "2fb774ef-e2af-4822-877f-bdfa1a4b04fa",
   "metadata": {},
   "source": [
    "### Classification as Categorical and Numerical columns"
   ]
  },
  {
   "cell_type": "code",
   "execution_count": 343,
   "id": "6c01f362-075a-497c-8ccc-4c9f7f320a9d",
   "metadata": {},
   "outputs": [
    {
     "data": {
      "text/plain": [
       "Term                   int64\n",
       "NoEmp                  int64\n",
       "NewExist             float64\n",
       "CreateJob              int64\n",
       "RetainedJob            int64\n",
       "UrbanRural             int64\n",
       "RevLineCr             object\n",
       "DisbursementGross    float64\n",
       "MIS_Status            object\n",
       "ChgOffPrinGr         float64\n",
       "GrAppv               float64\n",
       "SBA_Appv             float64\n",
       "Portion              float64\n",
       "RealEstate             int64\n",
       "dtype: object"
      ]
     },
     "execution_count": 343,
     "metadata": {},
     "output_type": "execute_result"
    }
   ],
   "source": [
    "data.dtypes"
   ]
  },
  {
   "cell_type": "markdown",
   "id": "28e0ee6b-bd9e-4433-a1a0-a09b5868b125",
   "metadata": {},
   "source": [
    "### Numerical columns"
   ]
  },
  {
   "cell_type": "code",
   "execution_count": 344,
   "id": "5a9fe908-0b11-438c-9a11-45581edc65b3",
   "metadata": {},
   "outputs": [
    {
     "data": {
      "text/html": [
       "<div>\n",
       "<style scoped>\n",
       "    .dataframe tbody tr th:only-of-type {\n",
       "        vertical-align: middle;\n",
       "    }\n",
       "\n",
       "    .dataframe tbody tr th {\n",
       "        vertical-align: top;\n",
       "    }\n",
       "\n",
       "    .dataframe thead th {\n",
       "        text-align: right;\n",
       "    }\n",
       "</style>\n",
       "<table border=\"1\" class=\"dataframe\">\n",
       "  <thead>\n",
       "    <tr style=\"text-align: right;\">\n",
       "      <th></th>\n",
       "      <th>Term</th>\n",
       "      <th>NoEmp</th>\n",
       "      <th>NewExist</th>\n",
       "      <th>CreateJob</th>\n",
       "      <th>RetainedJob</th>\n",
       "      <th>UrbanRural</th>\n",
       "      <th>DisbursementGross</th>\n",
       "      <th>ChgOffPrinGr</th>\n",
       "      <th>GrAppv</th>\n",
       "      <th>SBA_Appv</th>\n",
       "      <th>Portion</th>\n",
       "      <th>RealEstate</th>\n",
       "    </tr>\n",
       "  </thead>\n",
       "  <tbody>\n",
       "    <tr>\n",
       "      <th>614156</th>\n",
       "      <td>84</td>\n",
       "      <td>2</td>\n",
       "      <td>2.0</td>\n",
       "      <td>0</td>\n",
       "      <td>0</td>\n",
       "      <td>0</td>\n",
       "      <td>225000.0</td>\n",
       "      <td>0.0</td>\n",
       "      <td>225000.0</td>\n",
       "      <td>191250.0</td>\n",
       "      <td>0.85</td>\n",
       "      <td>0</td>\n",
       "    </tr>\n",
       "    <tr>\n",
       "      <th>837937</th>\n",
       "      <td>12</td>\n",
       "      <td>3</td>\n",
       "      <td>1.0</td>\n",
       "      <td>0</td>\n",
       "      <td>0</td>\n",
       "      <td>1</td>\n",
       "      <td>1000000.0</td>\n",
       "      <td>0.0</td>\n",
       "      <td>1000000.0</td>\n",
       "      <td>750000.0</td>\n",
       "      <td>0.75</td>\n",
       "      <td>0</td>\n",
       "    </tr>\n",
       "    <tr>\n",
       "      <th>766128</th>\n",
       "      <td>60</td>\n",
       "      <td>3</td>\n",
       "      <td>2.0</td>\n",
       "      <td>0</td>\n",
       "      <td>0</td>\n",
       "      <td>0</td>\n",
       "      <td>30800.0</td>\n",
       "      <td>0.0</td>\n",
       "      <td>30800.0</td>\n",
       "      <td>25564.0</td>\n",
       "      <td>0.83</td>\n",
       "      <td>0</td>\n",
       "    </tr>\n",
       "    <tr>\n",
       "      <th>414468</th>\n",
       "      <td>120</td>\n",
       "      <td>15</td>\n",
       "      <td>1.0</td>\n",
       "      <td>16</td>\n",
       "      <td>15</td>\n",
       "      <td>2</td>\n",
       "      <td>235000.0</td>\n",
       "      <td>0.0</td>\n",
       "      <td>235000.0</td>\n",
       "      <td>211500.0</td>\n",
       "      <td>0.90</td>\n",
       "      <td>0</td>\n",
       "    </tr>\n",
       "    <tr>\n",
       "      <th>214921</th>\n",
       "      <td>60</td>\n",
       "      <td>3</td>\n",
       "      <td>1.0</td>\n",
       "      <td>0</td>\n",
       "      <td>0</td>\n",
       "      <td>0</td>\n",
       "      <td>50000.0</td>\n",
       "      <td>0.0</td>\n",
       "      <td>50000.0</td>\n",
       "      <td>37500.0</td>\n",
       "      <td>0.75</td>\n",
       "      <td>0</td>\n",
       "    </tr>\n",
       "  </tbody>\n",
       "</table>\n",
       "</div>"
      ],
      "text/plain": [
       "        Term  NoEmp  NewExist  CreateJob  RetainedJob  UrbanRural  \\\n",
       "614156    84      2       2.0          0            0           0   \n",
       "837937    12      3       1.0          0            0           1   \n",
       "766128    60      3       2.0          0            0           0   \n",
       "414468   120     15       1.0         16           15           2   \n",
       "214921    60      3       1.0          0            0           0   \n",
       "\n",
       "        DisbursementGross  ChgOffPrinGr     GrAppv  SBA_Appv  Portion  \\\n",
       "614156           225000.0           0.0   225000.0  191250.0     0.85   \n",
       "837937          1000000.0           0.0  1000000.0  750000.0     0.75   \n",
       "766128            30800.0           0.0    30800.0   25564.0     0.83   \n",
       "414468           235000.0           0.0   235000.0  211500.0     0.90   \n",
       "214921            50000.0           0.0    50000.0   37500.0     0.75   \n",
       "\n",
       "        RealEstate  \n",
       "614156           0  \n",
       "837937           0  \n",
       "766128           0  \n",
       "414468           0  \n",
       "214921           0  "
      ]
     },
     "execution_count": 344,
     "metadata": {},
     "output_type": "execute_result"
    }
   ],
   "source": [
    "data.select_dtypes(include=['int64','float64']).head()"
   ]
  },
  {
   "cell_type": "code",
   "execution_count": 345,
   "id": "433306da-ab11-4c7e-b7b9-94ef5d4fe3e6",
   "metadata": {},
   "outputs": [
    {
     "data": {
      "text/plain": [
       "NewExist\n",
       "1.0    128993\n",
       "2.0     50619\n",
       "0.0       221\n",
       "Name: count, dtype: int64"
      ]
     },
     "execution_count": 345,
     "metadata": {},
     "output_type": "execute_result"
    }
   ],
   "source": [
    "data['NewExist'].value_counts()"
   ]
  },
  {
   "cell_type": "code",
   "execution_count": 346,
   "id": "73a3090b-5cd1-4688-a9c8-bb820d463ad4",
   "metadata": {},
   "outputs": [
    {
     "name": "stdout",
     "output_type": "stream",
     "text": [
      "1 = New Business , 2 = Existing Business\n",
      "NewExist\n",
      "1    128993\n",
      "2     50619\n",
      "Name: count, dtype: int64\n"
     ]
    }
   ],
   "source": [
    "# Filter out the rows with NewExist value 0.0\n",
    "data = data[data['NewExist'].isin([1.0, 2.0])]\n",
    "\n",
    "# Map the values to their corresponding labels\n",
    "data['NewExist'] = data['NewExist'].map({1.0: 1, 2.0: 2})\n",
    "\n",
    "# Now you can count the values\n",
    "urban_rural_counts = data['NewExist'].value_counts()\n",
    "print('1 = New Business',',','2 = Existing Business')\n",
    "print(urban_rural_counts)"
   ]
  },
  {
   "cell_type": "code",
   "execution_count": 347,
   "id": "75c36311-dda2-464d-acd7-c03e500180a2",
   "metadata": {},
   "outputs": [
    {
     "data": {
      "text/plain": [
       "UrbanRural\n",
       "1    93923\n",
       "0    64660\n",
       "2    21029\n",
       "Name: count, dtype: int64"
      ]
     },
     "execution_count": 347,
     "metadata": {},
     "output_type": "execute_result"
    }
   ],
   "source": [
    "data['UrbanRural'].value_counts()"
   ]
  },
  {
   "cell_type": "code",
   "execution_count": 348,
   "id": "b93f99be-dfeb-45e5-9012-ea928548a9c3",
   "metadata": {},
   "outputs": [
    {
     "name": "stdout",
     "output_type": "stream",
     "text": [
      "UrbanRural\n",
      "Urban    93923\n",
      "Rural    64660\n",
      "Name: count, dtype: int64\n"
     ]
    }
   ],
   "source": [
    "# Filter out the rows with UrbanRural value 2\n",
    "data = data[data['UrbanRural'].isin([0, 1])]\n",
    "\n",
    "# Map the values to their corresponding labels\n",
    "data['UrbanRural'] = data['UrbanRural'].map({0: 'Rural', 1: 'Urban'})\n",
    "\n",
    "# Now you can count the values\n",
    "urban_rural_counts = data['UrbanRural'].value_counts()\n",
    "print(urban_rural_counts)"
   ]
  },
  {
   "cell_type": "code",
   "execution_count": 349,
   "id": "9254c513-12b0-44b8-abfa-45b680eb07b4",
   "metadata": {},
   "outputs": [
    {
     "data": {
      "text/plain": [
       "UrbanRural\n",
       "Urban    93923\n",
       "Rural    64660\n",
       "Name: count, dtype: int64"
      ]
     },
     "execution_count": 349,
     "metadata": {},
     "output_type": "execute_result"
    }
   ],
   "source": [
    "data['UrbanRural'].value_counts()"
   ]
  },
  {
   "cell_type": "markdown",
   "id": "fc60acf9-9923-4c94-99dc-0b0aaef7b9d5",
   "metadata": {},
   "source": [
    "### Categorical columns"
   ]
  },
  {
   "cell_type": "code",
   "execution_count": 350,
   "id": "4c04efb9-c2c4-47b1-835a-478fc80e671f",
   "metadata": {},
   "outputs": [
    {
     "data": {
      "text/html": [
       "<div>\n",
       "<style scoped>\n",
       "    .dataframe tbody tr th:only-of-type {\n",
       "        vertical-align: middle;\n",
       "    }\n",
       "\n",
       "    .dataframe tbody tr th {\n",
       "        vertical-align: top;\n",
       "    }\n",
       "\n",
       "    .dataframe thead th {\n",
       "        text-align: right;\n",
       "    }\n",
       "</style>\n",
       "<table border=\"1\" class=\"dataframe\">\n",
       "  <thead>\n",
       "    <tr style=\"text-align: right;\">\n",
       "      <th></th>\n",
       "      <th>UrbanRural</th>\n",
       "      <th>RevLineCr</th>\n",
       "      <th>MIS_Status</th>\n",
       "    </tr>\n",
       "  </thead>\n",
       "  <tbody>\n",
       "    <tr>\n",
       "      <th>614156</th>\n",
       "      <td>Rural</td>\n",
       "      <td>N</td>\n",
       "      <td>P I F</td>\n",
       "    </tr>\n",
       "    <tr>\n",
       "      <th>837937</th>\n",
       "      <td>Urban</td>\n",
       "      <td>N</td>\n",
       "      <td>P I F</td>\n",
       "    </tr>\n",
       "    <tr>\n",
       "      <th>766128</th>\n",
       "      <td>Rural</td>\n",
       "      <td>N</td>\n",
       "      <td>P I F</td>\n",
       "    </tr>\n",
       "    <tr>\n",
       "      <th>214921</th>\n",
       "      <td>Rural</td>\n",
       "      <td>N</td>\n",
       "      <td>P I F</td>\n",
       "    </tr>\n",
       "    <tr>\n",
       "      <th>335738</th>\n",
       "      <td>Urban</td>\n",
       "      <td>Y</td>\n",
       "      <td>P I F</td>\n",
       "    </tr>\n",
       "  </tbody>\n",
       "</table>\n",
       "</div>"
      ],
      "text/plain": [
       "       UrbanRural RevLineCr MIS_Status\n",
       "614156      Rural         N      P I F\n",
       "837937      Urban         N      P I F\n",
       "766128      Rural         N      P I F\n",
       "214921      Rural         N      P I F\n",
       "335738      Urban         Y      P I F"
      ]
     },
     "execution_count": 350,
     "metadata": {},
     "output_type": "execute_result"
    }
   ],
   "source": [
    "data.select_dtypes(include= 'object').head()"
   ]
  },
  {
   "cell_type": "code",
   "execution_count": 351,
   "id": "3ee475ef-d3fa-45fc-ad9e-63f571ed2dfd",
   "metadata": {},
   "outputs": [],
   "source": [
    "numerical_features = ['Term','NoEmp','CreateJob','RetainedJob','DisbursementGross',\n",
    "                      'ChgOffPrinGr','GrAppv','SBA_Appv','Portion']"
   ]
  },
  {
   "cell_type": "code",
   "execution_count": 352,
   "id": "9dea7726-a154-4dd2-8f98-3acc56446991",
   "metadata": {},
   "outputs": [
    {
     "data": {
      "text/html": [
       "<div>\n",
       "<style scoped>\n",
       "    .dataframe tbody tr th:only-of-type {\n",
       "        vertical-align: middle;\n",
       "    }\n",
       "\n",
       "    .dataframe tbody tr th {\n",
       "        vertical-align: top;\n",
       "    }\n",
       "\n",
       "    .dataframe thead th {\n",
       "        text-align: right;\n",
       "    }\n",
       "</style>\n",
       "<table border=\"1\" class=\"dataframe\">\n",
       "  <thead>\n",
       "    <tr style=\"text-align: right;\">\n",
       "      <th></th>\n",
       "      <th>Term</th>\n",
       "      <th>NoEmp</th>\n",
       "      <th>CreateJob</th>\n",
       "      <th>RetainedJob</th>\n",
       "      <th>DisbursementGross</th>\n",
       "      <th>ChgOffPrinGr</th>\n",
       "      <th>GrAppv</th>\n",
       "      <th>SBA_Appv</th>\n",
       "      <th>Portion</th>\n",
       "    </tr>\n",
       "  </thead>\n",
       "  <tbody>\n",
       "    <tr>\n",
       "      <th>614156</th>\n",
       "      <td>84</td>\n",
       "      <td>2</td>\n",
       "      <td>0</td>\n",
       "      <td>0</td>\n",
       "      <td>225000.0</td>\n",
       "      <td>0.0</td>\n",
       "      <td>225000.0</td>\n",
       "      <td>191250.0</td>\n",
       "      <td>0.85</td>\n",
       "    </tr>\n",
       "    <tr>\n",
       "      <th>837937</th>\n",
       "      <td>12</td>\n",
       "      <td>3</td>\n",
       "      <td>0</td>\n",
       "      <td>0</td>\n",
       "      <td>1000000.0</td>\n",
       "      <td>0.0</td>\n",
       "      <td>1000000.0</td>\n",
       "      <td>750000.0</td>\n",
       "      <td>0.75</td>\n",
       "    </tr>\n",
       "    <tr>\n",
       "      <th>766128</th>\n",
       "      <td>60</td>\n",
       "      <td>3</td>\n",
       "      <td>0</td>\n",
       "      <td>0</td>\n",
       "      <td>30800.0</td>\n",
       "      <td>0.0</td>\n",
       "      <td>30800.0</td>\n",
       "      <td>25564.0</td>\n",
       "      <td>0.83</td>\n",
       "    </tr>\n",
       "    <tr>\n",
       "      <th>214921</th>\n",
       "      <td>60</td>\n",
       "      <td>3</td>\n",
       "      <td>0</td>\n",
       "      <td>0</td>\n",
       "      <td>50000.0</td>\n",
       "      <td>0.0</td>\n",
       "      <td>50000.0</td>\n",
       "      <td>37500.0</td>\n",
       "      <td>0.75</td>\n",
       "    </tr>\n",
       "    <tr>\n",
       "      <th>335738</th>\n",
       "      <td>60</td>\n",
       "      <td>2</td>\n",
       "      <td>0</td>\n",
       "      <td>0</td>\n",
       "      <td>39973.0</td>\n",
       "      <td>0.0</td>\n",
       "      <td>25000.0</td>\n",
       "      <td>12500.0</td>\n",
       "      <td>0.50</td>\n",
       "    </tr>\n",
       "  </tbody>\n",
       "</table>\n",
       "</div>"
      ],
      "text/plain": [
       "        Term  NoEmp  CreateJob  RetainedJob  DisbursementGross  ChgOffPrinGr  \\\n",
       "614156    84      2          0            0           225000.0           0.0   \n",
       "837937    12      3          0            0          1000000.0           0.0   \n",
       "766128    60      3          0            0            30800.0           0.0   \n",
       "214921    60      3          0            0            50000.0           0.0   \n",
       "335738    60      2          0            0            39973.0           0.0   \n",
       "\n",
       "           GrAppv  SBA_Appv  Portion  \n",
       "614156   225000.0  191250.0     0.85  \n",
       "837937  1000000.0  750000.0     0.75  \n",
       "766128    30800.0   25564.0     0.83  \n",
       "214921    50000.0   37500.0     0.75  \n",
       "335738    25000.0   12500.0     0.50  "
      ]
     },
     "execution_count": 352,
     "metadata": {},
     "output_type": "execute_result"
    }
   ],
   "source": [
    "numerical_cols = data[numerical_features]\n",
    "numerical_cols.head(5)"
   ]
  },
  {
   "cell_type": "code",
   "execution_count": 353,
   "id": "d41af4e5-46bf-445e-8d0e-8c87deb509fc",
   "metadata": {},
   "outputs": [],
   "source": [
    "categorical_features = ['RevLineCr','MIS_Status','UrbanRural','NewExist','RealEstate']"
   ]
  },
  {
   "cell_type": "code",
   "execution_count": 354,
   "id": "13b9fdaf-508a-40be-8390-e2d3113cae82",
   "metadata": {},
   "outputs": [
    {
     "data": {
      "text/html": [
       "<div>\n",
       "<style scoped>\n",
       "    .dataframe tbody tr th:only-of-type {\n",
       "        vertical-align: middle;\n",
       "    }\n",
       "\n",
       "    .dataframe tbody tr th {\n",
       "        vertical-align: top;\n",
       "    }\n",
       "\n",
       "    .dataframe thead th {\n",
       "        text-align: right;\n",
       "    }\n",
       "</style>\n",
       "<table border=\"1\" class=\"dataframe\">\n",
       "  <thead>\n",
       "    <tr style=\"text-align: right;\">\n",
       "      <th></th>\n",
       "      <th>RevLineCr</th>\n",
       "      <th>MIS_Status</th>\n",
       "      <th>UrbanRural</th>\n",
       "      <th>NewExist</th>\n",
       "      <th>RealEstate</th>\n",
       "    </tr>\n",
       "  </thead>\n",
       "  <tbody>\n",
       "    <tr>\n",
       "      <th>614156</th>\n",
       "      <td>N</td>\n",
       "      <td>P I F</td>\n",
       "      <td>Rural</td>\n",
       "      <td>2</td>\n",
       "      <td>0</td>\n",
       "    </tr>\n",
       "    <tr>\n",
       "      <th>837937</th>\n",
       "      <td>N</td>\n",
       "      <td>P I F</td>\n",
       "      <td>Urban</td>\n",
       "      <td>1</td>\n",
       "      <td>0</td>\n",
       "    </tr>\n",
       "    <tr>\n",
       "      <th>766128</th>\n",
       "      <td>N</td>\n",
       "      <td>P I F</td>\n",
       "      <td>Rural</td>\n",
       "      <td>2</td>\n",
       "      <td>0</td>\n",
       "    </tr>\n",
       "    <tr>\n",
       "      <th>214921</th>\n",
       "      <td>N</td>\n",
       "      <td>P I F</td>\n",
       "      <td>Rural</td>\n",
       "      <td>1</td>\n",
       "      <td>0</td>\n",
       "    </tr>\n",
       "    <tr>\n",
       "      <th>335738</th>\n",
       "      <td>Y</td>\n",
       "      <td>P I F</td>\n",
       "      <td>Urban</td>\n",
       "      <td>1</td>\n",
       "      <td>0</td>\n",
       "    </tr>\n",
       "  </tbody>\n",
       "</table>\n",
       "</div>"
      ],
      "text/plain": [
       "       RevLineCr MIS_Status UrbanRural  NewExist  RealEstate\n",
       "614156         N      P I F      Rural         2           0\n",
       "837937         N      P I F      Urban         1           0\n",
       "766128         N      P I F      Rural         2           0\n",
       "214921         N      P I F      Rural         1           0\n",
       "335738         Y      P I F      Urban         1           0"
      ]
     },
     "execution_count": 354,
     "metadata": {},
     "output_type": "execute_result"
    }
   ],
   "source": [
    "categorical_cols = data[categorical_features]\n",
    "categorical_cols.head(5)"
   ]
  },
  {
   "cell_type": "markdown",
   "id": "c7d2c2c4-960e-41be-b7a4-fc30f2376ae6",
   "metadata": {},
   "source": [
    "### Summary of statistical measures\n",
    "\n"
   ]
  },
  {
   "cell_type": "code",
   "execution_count": 355,
   "id": "9f9a16e1-4181-4d6d-936d-44237e9c702c",
   "metadata": {},
   "outputs": [
    {
     "data": {
      "text/html": [
       "<div>\n",
       "<style scoped>\n",
       "    .dataframe tbody tr th:only-of-type {\n",
       "        vertical-align: middle;\n",
       "    }\n",
       "\n",
       "    .dataframe tbody tr th {\n",
       "        vertical-align: top;\n",
       "    }\n",
       "\n",
       "    .dataframe thead th {\n",
       "        text-align: right;\n",
       "    }\n",
       "</style>\n",
       "<table border=\"1\" class=\"dataframe\">\n",
       "  <thead>\n",
       "    <tr style=\"text-align: right;\">\n",
       "      <th></th>\n",
       "      <th>Term</th>\n",
       "      <th>NoEmp</th>\n",
       "      <th>CreateJob</th>\n",
       "      <th>RetainedJob</th>\n",
       "      <th>DisbursementGross</th>\n",
       "      <th>ChgOffPrinGr</th>\n",
       "      <th>GrAppv</th>\n",
       "      <th>SBA_Appv</th>\n",
       "      <th>Portion</th>\n",
       "    </tr>\n",
       "  </thead>\n",
       "  <tbody>\n",
       "    <tr>\n",
       "      <th>count</th>\n",
       "      <td>158583.000000</td>\n",
       "      <td>158583.000000</td>\n",
       "      <td>158583.000000</td>\n",
       "      <td>158583.000000</td>\n",
       "      <td>1.585830e+05</td>\n",
       "      <td>1.585830e+05</td>\n",
       "      <td>1.585830e+05</td>\n",
       "      <td>1.585830e+05</td>\n",
       "      <td>158583.000000</td>\n",
       "    </tr>\n",
       "    <tr>\n",
       "      <th>mean</th>\n",
       "      <td>112.276152</td>\n",
       "      <td>11.620609</td>\n",
       "      <td>9.113953</td>\n",
       "      <td>11.321491</td>\n",
       "      <td>2.015860e+05</td>\n",
       "      <td>1.319416e+04</td>\n",
       "      <td>1.938565e+05</td>\n",
       "      <td>1.502768e+05</td>\n",
       "      <td>0.712599</td>\n",
       "    </tr>\n",
       "    <tr>\n",
       "      <th>std</th>\n",
       "      <td>79.786015</td>\n",
       "      <td>71.403868</td>\n",
       "      <td>248.638404</td>\n",
       "      <td>248.562569</td>\n",
       "      <td>2.834161e+05</td>\n",
       "      <td>6.330569e+04</td>\n",
       "      <td>2.813551e+05</td>\n",
       "      <td>2.246417e+05</td>\n",
       "      <td>0.172678</td>\n",
       "    </tr>\n",
       "    <tr>\n",
       "      <th>min</th>\n",
       "      <td>0.000000</td>\n",
       "      <td>0.000000</td>\n",
       "      <td>0.000000</td>\n",
       "      <td>0.000000</td>\n",
       "      <td>0.000000e+00</td>\n",
       "      <td>0.000000e+00</td>\n",
       "      <td>5.000000e+02</td>\n",
       "      <td>2.500000e+02</td>\n",
       "      <td>0.080000</td>\n",
       "    </tr>\n",
       "    <tr>\n",
       "      <th>25%</th>\n",
       "      <td>60.000000</td>\n",
       "      <td>2.000000</td>\n",
       "      <td>0.000000</td>\n",
       "      <td>0.000000</td>\n",
       "      <td>4.308100e+04</td>\n",
       "      <td>0.000000e+00</td>\n",
       "      <td>3.500000e+04</td>\n",
       "      <td>2.250000e+04</td>\n",
       "      <td>0.500000</td>\n",
       "    </tr>\n",
       "    <tr>\n",
       "      <th>50%</th>\n",
       "      <td>84.000000</td>\n",
       "      <td>4.000000</td>\n",
       "      <td>0.000000</td>\n",
       "      <td>0.000000</td>\n",
       "      <td>1.000000e+05</td>\n",
       "      <td>0.000000e+00</td>\n",
       "      <td>9.300000e+04</td>\n",
       "      <td>6.375000e+04</td>\n",
       "      <td>0.750000</td>\n",
       "    </tr>\n",
       "    <tr>\n",
       "      <th>75%</th>\n",
       "      <td>120.000000</td>\n",
       "      <td>10.000000</td>\n",
       "      <td>1.000000</td>\n",
       "      <td>4.000000</td>\n",
       "      <td>2.400000e+05</td>\n",
       "      <td>0.000000e+00</td>\n",
       "      <td>2.300000e+05</td>\n",
       "      <td>1.785000e+05</td>\n",
       "      <td>0.850000</td>\n",
       "    </tr>\n",
       "    <tr>\n",
       "      <th>max</th>\n",
       "      <td>511.000000</td>\n",
       "      <td>9000.000000</td>\n",
       "      <td>8800.000000</td>\n",
       "      <td>8800.000000</td>\n",
       "      <td>7.853275e+06</td>\n",
       "      <td>1.999999e+06</td>\n",
       "      <td>5.000000e+06</td>\n",
       "      <td>4.500000e+06</td>\n",
       "      <td>1.000000</td>\n",
       "    </tr>\n",
       "  </tbody>\n",
       "</table>\n",
       "</div>"
      ],
      "text/plain": [
       "                Term          NoEmp      CreateJob    RetainedJob  \\\n",
       "count  158583.000000  158583.000000  158583.000000  158583.000000   \n",
       "mean      112.276152      11.620609       9.113953      11.321491   \n",
       "std        79.786015      71.403868     248.638404     248.562569   \n",
       "min         0.000000       0.000000       0.000000       0.000000   \n",
       "25%        60.000000       2.000000       0.000000       0.000000   \n",
       "50%        84.000000       4.000000       0.000000       0.000000   \n",
       "75%       120.000000      10.000000       1.000000       4.000000   \n",
       "max       511.000000    9000.000000    8800.000000    8800.000000   \n",
       "\n",
       "       DisbursementGross  ChgOffPrinGr        GrAppv      SBA_Appv  \\\n",
       "count       1.585830e+05  1.585830e+05  1.585830e+05  1.585830e+05   \n",
       "mean        2.015860e+05  1.319416e+04  1.938565e+05  1.502768e+05   \n",
       "std         2.834161e+05  6.330569e+04  2.813551e+05  2.246417e+05   \n",
       "min         0.000000e+00  0.000000e+00  5.000000e+02  2.500000e+02   \n",
       "25%         4.308100e+04  0.000000e+00  3.500000e+04  2.250000e+04   \n",
       "50%         1.000000e+05  0.000000e+00  9.300000e+04  6.375000e+04   \n",
       "75%         2.400000e+05  0.000000e+00  2.300000e+05  1.785000e+05   \n",
       "max         7.853275e+06  1.999999e+06  5.000000e+06  4.500000e+06   \n",
       "\n",
       "             Portion  \n",
       "count  158583.000000  \n",
       "mean        0.712599  \n",
       "std         0.172678  \n",
       "min         0.080000  \n",
       "25%         0.500000  \n",
       "50%         0.750000  \n",
       "75%         0.850000  \n",
       "max         1.000000  "
      ]
     },
     "execution_count": 355,
     "metadata": {},
     "output_type": "execute_result"
    }
   ],
   "source": [
    "numerical_cols.describe()"
   ]
  },
  {
   "cell_type": "code",
   "execution_count": 356,
   "id": "cd6fc898-92fd-4c10-88de-28cb2b669f95",
   "metadata": {},
   "outputs": [
    {
     "data": {
      "text/plain": [
       "Term                 0\n",
       "NoEmp                0\n",
       "NewExist             0\n",
       "CreateJob            0\n",
       "RetainedJob          0\n",
       "UrbanRural           0\n",
       "RevLineCr            0\n",
       "DisbursementGross    0\n",
       "MIS_Status           0\n",
       "ChgOffPrinGr         0\n",
       "GrAppv               0\n",
       "SBA_Appv             0\n",
       "Portion              0\n",
       "RealEstate           0\n",
       "dtype: int64"
      ]
     },
     "execution_count": 356,
     "metadata": {},
     "output_type": "execute_result"
    }
   ],
   "source": [
    "# Again check for null values\n",
    "data.isnull().sum()"
   ]
  },
  {
   "cell_type": "markdown",
   "id": "f6b28da1-50f7-4a3f-9f83-9f9c08642343",
   "metadata": {},
   "source": [
    "## Exploratory Data Analysis "
   ]
  },
  {
   "cell_type": "code",
   "execution_count": 357,
   "id": "0b96cc1a-49b4-4ec7-92e9-e738d727685e",
   "metadata": {
    "scrolled": true
   },
   "outputs": [
    {
     "name": "stdout",
     "output_type": "stream",
     "text": [
      "RevLineCr:\n",
      " RevLineCr\n",
      "N    123614\n",
      "Y     34969\n",
      "Name: count, dtype: int64\n"
     ]
    },
    {
     "data": {
      "image/png": "[encoded data removed]",
      "text/plain": [
       "<Figure size 800x500 with 1 Axes>"
      ]
     },
     "metadata": {},
     "output_type": "display_data"
    },
    {
     "name": "stdout",
     "output_type": "stream",
     "text": [
      "MIS_Status:\n",
      " MIS_Status\n",
      "P I F     131264\n",
      "CHGOFF     27319\n",
      "Name: count, dtype: int64\n"
     ]
    },
    {
     "data": {
      "image/png": "[encoded data removed]",
      "text/plain": [
       "<Figure size 800x500 with 1 Axes>"
      ]
     },
     "metadata": {},
     "output_type": "display_data"
    },
    {
     "name": "stdout",
     "output_type": "stream",
     "text": [
      "UrbanRural:\n",
      " UrbanRural\n",
      "Urban    93923\n",
      "Rural    64660\n",
      "Name: count, dtype: int64\n"
     ]
    },
    {
     "data": {
      "image/png": "[encoded data removed]",
      "text/plain": [
       "<Figure size 800x500 with 1 Axes>"
      ]
     },
     "metadata": {},
     "output_type": "display_data"
    },
    {
     "name": "stdout",
     "output_type": "stream",
     "text": [
      "NewExist:\n",
      " NewExist\n",
      "1    114978\n",
      "2     43605\n",
      "Name: count, dtype: int64\n"
     ]
    },
    {
     "data": {
      "image/png": "[encoded data removed]",
      "text/plain": [
       "<Figure size 800x500 with 1 Axes>"
      ]
     },
     "metadata": {},
     "output_type": "display_data"
    },
    {
     "name": "stdout",
     "output_type": "stream",
     "text": [
      "RealEstate:\n",
      " RealEstate\n",
      "0    130911\n",
      "1     27672\n",
      "Name: count, dtype: int64\n"
     ]
    },
    {
     "data": {
      "image/png": "[encoded data removed]",
      "text/plain": [
       "<Figure size 800x500 with 1 Axes>"
      ]
     },
     "metadata": {},
     "output_type": "display_data"
    }
   ],
   "source": [
    "# Categorical EDA\n",
    "\n",
    "for feature in categorical_features:\n",
    "    print(f\"{feature}:\\n\", data[feature].value_counts())\n",
    "\n",
    "    plt.figure(figsize=(8, 5))  # Set figure size\n",
    "    sns.countplot(x=feature, data=data,palette = 'Set2')\n",
    "    plt.title(f\"Countplot for {feature}\")\n",
    "\n",
    "    plt.show()  \n",
    "    plt.close()  "
   ]
  },
  {
   "cell_type": "code",
   "execution_count": 358,
   "id": "b02783ba-f797-4608-9590-2ab5a3084932",
   "metadata": {
    "scrolled": true
   },
   "outputs": [
    {
     "data": {
      "image/png": "[encoded data removed]",
      "text/plain": [
       "<Figure size 1500x1500 with 9 Axes>"
      ]
     },
     "metadata": {},
     "output_type": "display_data"
    }
   ],
   "source": [
    "# numerical feature\n",
    "\n",
    "# Define number of numerical features\n",
    "num_features = len(numerical_features)\n",
    "\n",
    "# Calculate required rows and columns for subplots\n",
    "rows = (num_features // 3) + (num_features % 3 > 0)  # Round up\n",
    "cols = min(3, num_features)  # Max 3 columns\n",
    "\n",
    "# Create subplots dynamically\n",
    "fig, axes = plt.subplots(rows, cols, figsize=(cols * 5, rows * 5))\n",
    "axes = axes.flatten()  # Flatten in case of multiple rows\n",
    "\n",
    "# Loop through numerical features and plot boxplots\n",
    "for i, feature in enumerate(numerical_features):\n",
    "    sns.boxplot(y=data[feature], ax=axes[i], palette='Set2')\n",
    "    axes[i].set_title(f'Box Plot of {feature}')\n",
    "    axes[i].set_ylabel(feature)\n",
    "\n",
    "# Hide any extra empty subplots\n",
    "for j in range(i + 1, len(axes)):\n",
    "    fig.delaxes(axes[j])\n",
    "\n",
    "plt.tight_layout()\n",
    "plt.show()"
   ]
  },
  {
   "cell_type": "markdown",
   "id": "755f673a-dcff-45e1-9da5-c667e866581c",
   "metadata": {},
   "source": [
    "Most of the datasets exhibit a highly skewed distribution with a large number of outliers.<br>\n",
    "The median values for many datasets are close to 0, indicating that a significant portion of the data points are low values.<br>\n",
    "The presence of numerous outliers suggests that a small number of data points have extremely high values, which could significantly impact the mean and standard deviation of these datasets.<br>\n",
    "The \"Portion\" dataset appears to be the most symmetric and has the fewest outliers, indicating a more balanced distribution compared to the others."
   ]
  },
  {
   "cell_type": "markdown",
   "id": "ff6ca9b2-0694-4b83-b50b-121e33571ed6",
   "metadata": {},
   "source": [
    "### Histogram for skewness"
   ]
  },
  {
   "cell_type": "code",
   "execution_count": 359,
   "id": "7ef6fbcb-2e15-4e7f-8f17-570997fdf9a0",
   "metadata": {
    "scrolled": true
   },
   "outputs": [
    {
     "data": {
      "image/png": "[encoded data removed]",
      "text/plain": [
       "<Figure size 1500x1500 with 9 Axes>"
      ]
     },
     "metadata": {},
     "output_type": "display_data"
    }
   ],
   "source": [
    "# Define bin ranges for each feature\n",
    "\n",
    "bin_ranges = {\n",
    "    'Term': (0, 320, 20),\n",
    "    'GrAppv': (0, 5000000, 50),\n",
    "    'SBA_Appv': (0, 4500000, 50),\n",
    "    'ChgOffPrinGr': (0, 1600000, 50),\n",
    "    'DisbursementGross': (0, 11000000, 50),\n",
    "    'NoEmp': (0, 1000, 50),\n",
    "    'CreateJob': (0, 380, 20),\n",
    "    'RetainedJob': (0, 460, 20),  \n",
    "    'Portion': (0.4, 1.0, 50)  \n",
    "}\n",
    "\n",
    "# Ensure all numerical features are included\n",
    "num_features = len(numerical_features)\n",
    "\n",
    "# Calculate required rows and columns dynamically\n",
    "cols = 3  # Fixed 3 columns\n",
    "rows = (num_features // cols) + (num_features % cols > 0)  # Round up to fit all features\n",
    "\n",
    "# Create subplots dynamically\n",
    "fig, axes = plt.subplots(rows, cols, figsize=(cols * 5, rows * 5))\n",
    "axes = axes.flatten()  # Flatten for easy iteration\n",
    "\n",
    "# Loop through each numerical feature and plot histogram\n",
    "for i, feature in enumerate(numerical_features):\n",
    "    bin_range = bin_ranges.get(feature, (0, 100, 10))  # Default bin range if missing\n",
    "    axes[i].hist(data[feature], bins=bin_range[2], range=bin_range[:2], edgecolor='black')\n",
    "    axes[i].set_title(f'Histogram of {feature}')\n",
    "    axes[i].set_xlabel(feature)\n",
    "    axes[i].set_ylabel('Frequency')\n",
    "\n",
    "# Hide any extra empty subplots (if features < total subplots)\n",
    "for j in range(i + 1, len(axes)):\n",
    "    fig.delaxes(axes[j])\n",
    "\n",
    "plt.tight_layout()\n",
    "plt.show()"
   ]
  },
  {
   "cell_type": "markdown",
   "id": "0ec86a77-ae85-4135-8f12-8b1631fdffe0",
   "metadata": {},
   "source": [
    "**Histogram of Term:**\n",
    "The distribution is multimodal with peaks around 0, 100, and 250.\n",
    "This suggests that the term lengths are clustered around these values.\n",
    "\n",
    "**GrAppv:**\n",
    "Highly right-skewed with most values close to 0.\n",
    "Indicates that the majority of the data points have low values, with few outliers.\n",
    "\n",
    "**SBA_Appv:**\n",
    "Similar to GrAppv, highly right-skewed with most values close to 0.\n",
    "Suggests a similar distribution pattern with few high values.\n",
    "\n",
    "**ChgOffPrinGr:**\n",
    "Most values are close to 0, indicating minimal changes in the principal amount for most data points.\n",
    "\n",
    "**DisbursementGross:**\n",
    "Highly right-skewed with most values close to 0.\n",
    "Indicates that most disbursements are low, with few high disbursements.\n",
    "\n",
    "**NoEmp:**\n",
    "Highly right-skewed with most values close to 0.\n",
    "Suggests that most data points have a low number of employees.\n",
    "\n",
    "**CreateJob:**\n",
    "Most values are close to 0, indicating minimal job creation for most data points.\n",
    "\n",
    "**RetainedJob:**\n",
    "Highly right-skewed with most values close to 0.\n",
    "Indicates that most data points have retained a low number of jobs.\n",
    "\n",
    "**Portion:**\n",
    "Bimodal distribution with peaks around 0 and 1.\n",
    "Suggests that the data is clustered around these two values.\n",
    "ta is clustered around these two values.\n",
    "lustered around these two values."
   ]
  },
  {
   "cell_type": "markdown",
   "id": "b6cfdbc1-6c6e-4999-8d50-fce84db49618",
   "metadata": {},
   "source": [
    " Most variables are right-skewed, indicating that the majority of the data points have low values with few high outliers."
   ]
  },
  {
   "cell_type": "markdown",
   "id": "bb9bbfc3-77ce-44fc-bff4-d39a126a2b7b",
   "metadata": {},
   "source": [
    "## Bivariate Analysis"
   ]
  },
  {
   "cell_type": "code",
   "execution_count": 360,
   "id": "bc17364b-7f8f-45f8-8717-131e464b5a0a",
   "metadata": {},
   "outputs": [],
   "source": [
    "# sns.pairplot(data=numerical_cols, diag_kind='kde')\n",
    "# plt.show()"
   ]
  },
  {
   "cell_type": "markdown",
   "id": "63c842fa-58e1-4219-8bba-a1c0a5cd27e8",
   "metadata": {},
   "source": [
    "**Distribution:**\n",
    "\n",
    "Most variables are right-skewed, indicating that the majority of the data points have low values with few high outliers.<br>\n",
    "The \"Portion\" variable is bimodal. <br>\n",
    "\n",
    "**Relationships:**\n",
    "\n",
    "Strong positive relationships between GrAppv and SBA_Appv, and between these variables and DisbursementGross. <br>\n",
    "Moderate positive relationships between Term and Portion, and between Term and GrAppv/SBA_Appv. <br>\n",
    "Weak positive relationships between NoEmp and CreateJob/RetainedJob.\n",
    "ob.\n",
    "br>\n",
    "Job."
   ]
  },
  {
   "cell_type": "markdown",
   "id": "2e5a870d-ccf6-4470-b154-9ba9e8e342ca",
   "metadata": {},
   "source": [
    "## Pearson Correlation"
   ]
  },
  {
   "cell_type": "code",
   "execution_count": 361,
   "id": "2102c5e5-0add-44c6-b42d-92296c8ba8c3",
   "metadata": {},
   "outputs": [
    {
     "data": {
      "text/html": [
       "<div>\n",
       "<style scoped>\n",
       "    .dataframe tbody tr th:only-of-type {\n",
       "        vertical-align: middle;\n",
       "    }\n",
       "\n",
       "    .dataframe tbody tr th {\n",
       "        vertical-align: top;\n",
       "    }\n",
       "\n",
       "    .dataframe thead th {\n",
       "        text-align: right;\n",
       "    }\n",
       "</style>\n",
       "<table border=\"1\" class=\"dataframe\">\n",
       "  <thead>\n",
       "    <tr style=\"text-align: right;\">\n",
       "      <th></th>\n",
       "      <th>Term</th>\n",
       "      <th>NoEmp</th>\n",
       "      <th>CreateJob</th>\n",
       "      <th>RetainedJob</th>\n",
       "      <th>DisbursementGross</th>\n",
       "      <th>ChgOffPrinGr</th>\n",
       "      <th>GrAppv</th>\n",
       "      <th>SBA_Appv</th>\n",
       "      <th>Portion</th>\n",
       "    </tr>\n",
       "  </thead>\n",
       "  <tbody>\n",
       "    <tr>\n",
       "      <th>Term</th>\n",
       "      <td>1.000000</td>\n",
       "      <td>0.049908</td>\n",
       "      <td>0.027160</td>\n",
       "      <td>0.024623</td>\n",
       "      <td>0.477011</td>\n",
       "      <td>-0.052320</td>\n",
       "      <td>0.507934</td>\n",
       "      <td>0.531535</td>\n",
       "      <td>0.428073</td>\n",
       "    </tr>\n",
       "    <tr>\n",
       "      <th>NoEmp</th>\n",
       "      <td>0.049908</td>\n",
       "      <td>1.000000</td>\n",
       "      <td>0.007042</td>\n",
       "      <td>0.017344</td>\n",
       "      <td>0.090783</td>\n",
       "      <td>0.012207</td>\n",
       "      <td>0.092296</td>\n",
       "      <td>0.095609</td>\n",
       "      <td>0.050667</td>\n",
       "    </tr>\n",
       "    <tr>\n",
       "      <th>CreateJob</th>\n",
       "      <td>0.027160</td>\n",
       "      <td>0.007042</td>\n",
       "      <td>1.000000</td>\n",
       "      <td>0.995796</td>\n",
       "      <td>0.005999</td>\n",
       "      <td>0.008808</td>\n",
       "      <td>0.007325</td>\n",
       "      <td>0.013174</td>\n",
       "      <td>0.042355</td>\n",
       "    </tr>\n",
       "    <tr>\n",
       "      <th>RetainedJob</th>\n",
       "      <td>0.024623</td>\n",
       "      <td>0.017344</td>\n",
       "      <td>0.995796</td>\n",
       "      <td>1.000000</td>\n",
       "      <td>0.008662</td>\n",
       "      <td>0.011851</td>\n",
       "      <td>0.009398</td>\n",
       "      <td>0.013791</td>\n",
       "      <td>0.035626</td>\n",
       "    </tr>\n",
       "    <tr>\n",
       "      <th>DisbursementGross</th>\n",
       "      <td>0.477011</td>\n",
       "      <td>0.090783</td>\n",
       "      <td>0.005999</td>\n",
       "      <td>0.008662</td>\n",
       "      <td>1.000000</td>\n",
       "      <td>0.186572</td>\n",
       "      <td>0.977549</td>\n",
       "      <td>0.945894</td>\n",
       "      <td>0.203176</td>\n",
       "    </tr>\n",
       "    <tr>\n",
       "      <th>ChgOffPrinGr</th>\n",
       "      <td>-0.052320</td>\n",
       "      <td>0.012207</td>\n",
       "      <td>0.008808</td>\n",
       "      <td>0.011851</td>\n",
       "      <td>0.186572</td>\n",
       "      <td>1.000000</td>\n",
       "      <td>0.186597</td>\n",
       "      <td>0.160323</td>\n",
       "      <td>-0.020504</td>\n",
       "    </tr>\n",
       "    <tr>\n",
       "      <th>GrAppv</th>\n",
       "      <td>0.507934</td>\n",
       "      <td>0.092296</td>\n",
       "      <td>0.007325</td>\n",
       "      <td>0.009398</td>\n",
       "      <td>0.977549</td>\n",
       "      <td>0.186597</td>\n",
       "      <td>1.000000</td>\n",
       "      <td>0.973542</td>\n",
       "      <td>0.249772</td>\n",
       "    </tr>\n",
       "    <tr>\n",
       "      <th>SBA_Appv</th>\n",
       "      <td>0.531535</td>\n",
       "      <td>0.095609</td>\n",
       "      <td>0.013174</td>\n",
       "      <td>0.013791</td>\n",
       "      <td>0.945894</td>\n",
       "      <td>0.160323</td>\n",
       "      <td>0.973542</td>\n",
       "      <td>1.000000</td>\n",
       "      <td>0.349151</td>\n",
       "    </tr>\n",
       "    <tr>\n",
       "      <th>Portion</th>\n",
       "      <td>0.428073</td>\n",
       "      <td>0.050667</td>\n",
       "      <td>0.042355</td>\n",
       "      <td>0.035626</td>\n",
       "      <td>0.203176</td>\n",
       "      <td>-0.020504</td>\n",
       "      <td>0.249772</td>\n",
       "      <td>0.349151</td>\n",
       "      <td>1.000000</td>\n",
       "    </tr>\n",
       "  </tbody>\n",
       "</table>\n",
       "</div>"
      ],
      "text/plain": [
       "                       Term     NoEmp  CreateJob  RetainedJob  \\\n",
       "Term               1.000000  0.049908   0.027160     0.024623   \n",
       "NoEmp              0.049908  1.000000   0.007042     0.017344   \n",
       "CreateJob          0.027160  0.007042   1.000000     0.995796   \n",
       "RetainedJob        0.024623  0.017344   0.995796     1.000000   \n",
       "DisbursementGross  0.477011  0.090783   0.005999     0.008662   \n",
       "ChgOffPrinGr      -0.052320  0.012207   0.008808     0.011851   \n",
       "GrAppv             0.507934  0.092296   0.007325     0.009398   \n",
       "SBA_Appv           0.531535  0.095609   0.013174     0.013791   \n",
       "Portion            0.428073  0.050667   0.042355     0.035626   \n",
       "\n",
       "                   DisbursementGross  ChgOffPrinGr    GrAppv  SBA_Appv  \\\n",
       "Term                        0.477011     -0.052320  0.507934  0.531535   \n",
       "NoEmp                       0.090783      0.012207  0.092296  0.095609   \n",
       "CreateJob                   0.005999      0.008808  0.007325  0.013174   \n",
       "RetainedJob                 0.008662      0.011851  0.009398  0.013791   \n",
       "DisbursementGross           1.000000      0.186572  0.977549  0.945894   \n",
       "ChgOffPrinGr                0.186572      1.000000  0.186597  0.160323   \n",
       "GrAppv                      0.977549      0.186597  1.000000  0.973542   \n",
       "SBA_Appv                    0.945894      0.160323  0.973542  1.000000   \n",
       "Portion                     0.203176     -0.020504  0.249772  0.349151   \n",
       "\n",
       "                    Portion  \n",
       "Term               0.428073  \n",
       "NoEmp              0.050667  \n",
       "CreateJob          0.042355  \n",
       "RetainedJob        0.035626  \n",
       "DisbursementGross  0.203176  \n",
       "ChgOffPrinGr      -0.020504  \n",
       "GrAppv             0.249772  \n",
       "SBA_Appv           0.349151  \n",
       "Portion            1.000000  "
      ]
     },
     "execution_count": 361,
     "metadata": {},
     "output_type": "execute_result"
    }
   ],
   "source": [
    "correlation_matrix = data[numerical_features].corr()\n",
    "correlation_matrix"
   ]
  },
  {
   "cell_type": "code",
   "execution_count": 362,
   "id": "41803216-9b54-4aa9-8e9b-9fc86ebb696a",
   "metadata": {},
   "outputs": [
    {
     "data": {
      "image/png": "[encoded data removed]",
      "text/plain": [
       "<Figure size 1200x800 with 2 Axes>"
      ]
     },
     "metadata": {},
     "output_type": "display_data"
    }
   ],
   "source": [
    "plt.figure(figsize=(12, 8))\n",
    "sns.heatmap(correlation_matrix, annot=True, cmap=plt.cm.CMRmap_r, fmt='.2f')\n",
    "plt.title('Correlation Matrix')\n",
    "plt.show()"
   ]
  },
  {
   "cell_type": "markdown",
   "id": "47ec17d9-5a01-42c0-bc59-17567ed5daa4",
   "metadata": {},
   "source": [
    " There are strong positive correlations between GrAppv, disbursementgross and SBA_Appv, and moderate correlations between Term, DisbursementGross, and Portion. Other variables show weak or no significant correlations."
   ]
  },
  {
   "cell_type": "code",
   "execution_count": 363,
   "id": "62009aa4-4944-4903-a091-811ba514b1d6",
   "metadata": {},
   "outputs": [
    {
     "data": {
      "application/javascript": [
       "\n",
       "        if (window._pyforest_update_imports_cell) { window._pyforest_update_imports_cell('import numpy as np\\nimport matplotlib.pyplot as plt\\nfrom sklearn.linear_model import LogisticRegression\\nfrom sklearn.preprocessing import StandardScaler\\nfrom sklearn.model_selection import GridSearchCV\\nimport pandas as pd\\nimport seaborn as sns\\nfrom sklearn.model_selection import cross_val_score'); }\n",
       "    "
      ],
      "text/plain": [
       "<IPython.core.display.Javascript object>"
      ]
     },
     "metadata": {},
     "output_type": "display_data"
    },
    {
     "data": {
      "application/javascript": [
       "\n",
       "        if (window._pyforest_update_imports_cell) { window._pyforest_update_imports_cell('import numpy as np\\nimport matplotlib.pyplot as plt\\nfrom sklearn.linear_model import LogisticRegression\\nfrom sklearn.preprocessing import StandardScaler\\nfrom sklearn.model_selection import GridSearchCV\\nimport pandas as pd\\nimport seaborn as sns\\nfrom sklearn.model_selection import cross_val_score'); }\n",
       "    "
      ],
      "text/plain": [
       "<IPython.core.display.Javascript object>"
      ]
     },
     "metadata": {},
     "output_type": "display_data"
    },
    {
     "data": {
      "text/plain": [
       "([('CreateJob', 'RetainedJob'),\n",
       "  ('DisbursementGross', 'GrAppv'),\n",
       "  ('DisbursementGross', 'SBA_Appv'),\n",
       "  ('GrAppv', 'SBA_Appv')],\n",
       " ['Term', 'NoEmp', 'ChgOffPrinGr', 'Portion'])"
      ]
     },
     "execution_count": 363,
     "metadata": {},
     "output_type": "execute_result"
    }
   ],
   "source": [
    "def separate_highly_correlated_features(df, threshold=0.8):\n",
    "    # Calculate absolute correlation matrix\n",
    "    corr_matrix = df.corr().abs()\n",
    "\n",
    "    # Select upper triangle of the correlation matrix (excluding diagonal)\n",
    "    upper_triangle = corr_matrix.where(np.triu(np.ones(corr_matrix.shape), k=1).astype(bool))\n",
    "\n",
    "    # Find feature pairs with correlation greater than threshold\n",
    "    highly_correlated_pairs = [(col1, col2) for col1 in upper_triangle.columns \n",
    "                               for col2 in upper_triangle.index if upper_triangle.loc[col1, col2] > threshold]\n",
    "\n",
    "    # Extract all correlated features\n",
    "    correlated_features = set([feature for pair in highly_correlated_pairs for feature in pair])\n",
    "\n",
    "    # Identify uncorrelated features\n",
    "    uncorrelated_features = [feature for feature in df.columns if feature not in correlated_features]\n",
    "\n",
    "    return highly_correlated_pairs, uncorrelated_features\n",
    "\n",
    "# Run function on numerical features\n",
    "high_corr_features, uncorrelated_features = separate_highly_correlated_features(data[numerical_features])\n",
    "\n",
    "# Output results\n",
    "high_corr_features, uncorrelated_features"
   ]
  },
  {
   "cell_type": "markdown",
   "id": "2059a0b8-4164-40b3-96bd-b616677b9838",
   "metadata": {},
   "source": [
    "Clearly 'GrAppv', 'SBA_Appv', 'DisbursementGross have high correlation and might add multicollinearity in our model, it would be wise to drop 2 out of 3 of those columns. We already have a column Portion which was derived from 'GrAppv' and 'SBA_Appv', so we can drop one of those two.',"
   ]
  },
  {
   "cell_type": "code",
   "execution_count": 364,
   "id": "53e473ec-01b7-4ec7-98f3-8f31300cd93d",
   "metadata": {},
   "outputs": [],
   "source": [
    "columns_to_drop = ['SBA_Appv', 'DisbursementGross']\n",
    "data = data.drop(columns=columns_to_drop)"
   ]
  },
  {
   "cell_type": "code",
   "execution_count": 365,
   "id": "d88f4d64-23cf-4a3f-97d8-82aaa198897b",
   "metadata": {},
   "outputs": [
    {
     "data": {
      "text/html": [
       "<div>\n",
       "<style scoped>\n",
       "    .dataframe tbody tr th:only-of-type {\n",
       "        vertical-align: middle;\n",
       "    }\n",
       "\n",
       "    .dataframe tbody tr th {\n",
       "        vertical-align: top;\n",
       "    }\n",
       "\n",
       "    .dataframe thead th {\n",
       "        text-align: right;\n",
       "    }\n",
       "</style>\n",
       "<table border=\"1\" class=\"dataframe\">\n",
       "  <thead>\n",
       "    <tr style=\"text-align: right;\">\n",
       "      <th></th>\n",
       "      <th>Term</th>\n",
       "      <th>NoEmp</th>\n",
       "      <th>NewExist</th>\n",
       "      <th>CreateJob</th>\n",
       "      <th>RetainedJob</th>\n",
       "      <th>UrbanRural</th>\n",
       "      <th>RevLineCr</th>\n",
       "      <th>MIS_Status</th>\n",
       "      <th>ChgOffPrinGr</th>\n",
       "      <th>GrAppv</th>\n",
       "      <th>Portion</th>\n",
       "      <th>RealEstate</th>\n",
       "    </tr>\n",
       "  </thead>\n",
       "  <tbody>\n",
       "    <tr>\n",
       "      <th>614156</th>\n",
       "      <td>84</td>\n",
       "      <td>2</td>\n",
       "      <td>2</td>\n",
       "      <td>0</td>\n",
       "      <td>0</td>\n",
       "      <td>Rural</td>\n",
       "      <td>N</td>\n",
       "      <td>P I F</td>\n",
       "      <td>0.0</td>\n",
       "      <td>225000.0</td>\n",
       "      <td>0.85</td>\n",
       "      <td>0</td>\n",
       "    </tr>\n",
       "    <tr>\n",
       "      <th>837937</th>\n",
       "      <td>12</td>\n",
       "      <td>3</td>\n",
       "      <td>1</td>\n",
       "      <td>0</td>\n",
       "      <td>0</td>\n",
       "      <td>Urban</td>\n",
       "      <td>N</td>\n",
       "      <td>P I F</td>\n",
       "      <td>0.0</td>\n",
       "      <td>1000000.0</td>\n",
       "      <td>0.75</td>\n",
       "      <td>0</td>\n",
       "    </tr>\n",
       "    <tr>\n",
       "      <th>766128</th>\n",
       "      <td>60</td>\n",
       "      <td>3</td>\n",
       "      <td>2</td>\n",
       "      <td>0</td>\n",
       "      <td>0</td>\n",
       "      <td>Rural</td>\n",
       "      <td>N</td>\n",
       "      <td>P I F</td>\n",
       "      <td>0.0</td>\n",
       "      <td>30800.0</td>\n",
       "      <td>0.83</td>\n",
       "      <td>0</td>\n",
       "    </tr>\n",
       "  </tbody>\n",
       "</table>\n",
       "</div>"
      ],
      "text/plain": [
       "        Term  NoEmp  NewExist  CreateJob  RetainedJob UrbanRural RevLineCr  \\\n",
       "614156    84      2         2          0            0      Rural         N   \n",
       "837937    12      3         1          0            0      Urban         N   \n",
       "766128    60      3         2          0            0      Rural         N   \n",
       "\n",
       "       MIS_Status  ChgOffPrinGr     GrAppv  Portion  RealEstate  \n",
       "614156      P I F           0.0   225000.0     0.85           0  \n",
       "837937      P I F           0.0  1000000.0     0.75           0  \n",
       "766128      P I F           0.0    30800.0     0.83           0  "
      ]
     },
     "execution_count": 365,
     "metadata": {},
     "output_type": "execute_result"
    }
   ],
   "source": [
    "data.head(3)"
   ]
  },
  {
   "cell_type": "code",
   "execution_count": 366,
   "id": "5a5c3629-1d0e-4f0b-b170-034d5afa6d2a",
   "metadata": {},
   "outputs": [
    {
     "data": {
      "application/javascript": [
       "\n",
       "        if (window._pyforest_update_imports_cell) { window._pyforest_update_imports_cell('import numpy as np\\nimport matplotlib.pyplot as plt\\nfrom sklearn.linear_model import LogisticRegression\\nfrom sklearn.preprocessing import StandardScaler\\nfrom sklearn.model_selection import GridSearchCV\\nimport pandas as pd\\nimport seaborn as sns\\nfrom sklearn.model_selection import cross_val_score'); }\n",
       "    "
      ],
      "text/plain": [
       "<IPython.core.display.Javascript object>"
      ]
     },
     "metadata": {},
     "output_type": "display_data"
    },
    {
     "data": {
      "application/javascript": [
       "\n",
       "        if (window._pyforest_update_imports_cell) { window._pyforest_update_imports_cell('import numpy as np\\nimport matplotlib.pyplot as plt\\nfrom sklearn.linear_model import LogisticRegression\\nfrom sklearn.preprocessing import StandardScaler\\nfrom sklearn.model_selection import GridSearchCV\\nimport pandas as pd\\nimport seaborn as sns\\nfrom sklearn.model_selection import cross_val_score'); }\n",
       "    "
      ],
      "text/plain": [
       "<IPython.core.display.Javascript object>"
      ]
     },
     "metadata": {},
     "output_type": "display_data"
    },
    {
     "data": {
      "application/javascript": [
       "\n",
       "        if (window._pyforest_update_imports_cell) { window._pyforest_update_imports_cell('import numpy as np\\nimport matplotlib.pyplot as plt\\nfrom sklearn.linear_model import LogisticRegression\\nfrom sklearn.preprocessing import StandardScaler\\nfrom sklearn.model_selection import GridSearchCV\\nimport pandas as pd\\nimport seaborn as sns\\nfrom sklearn.model_selection import cross_val_score'); }\n",
       "    "
      ],
      "text/plain": [
       "<IPython.core.display.Javascript object>"
      ]
     },
     "metadata": {},
     "output_type": "display_data"
    },
    {
     "data": {
      "application/javascript": [
       "\n",
       "        if (window._pyforest_update_imports_cell) { window._pyforest_update_imports_cell('import numpy as np\\nimport matplotlib.pyplot as plt\\nfrom sklearn.linear_model import LogisticRegression\\nfrom sklearn.preprocessing import StandardScaler\\nfrom sklearn.model_selection import GridSearchCV\\nimport pandas as pd\\nimport seaborn as sns\\nfrom sklearn.model_selection import cross_val_score'); }\n",
       "    "
      ],
      "text/plain": [
       "<IPython.core.display.Javascript object>"
      ]
     },
     "metadata": {},
     "output_type": "display_data"
    },
    {
     "data": {
      "application/javascript": [
       "\n",
       "        if (window._pyforest_update_imports_cell) { window._pyforest_update_imports_cell('import numpy as np\\nimport matplotlib.pyplot as plt\\nfrom sklearn.linear_model import LogisticRegression\\nfrom sklearn.preprocessing import StandardScaler\\nfrom sklearn.model_selection import GridSearchCV\\nimport pandas as pd\\nimport seaborn as sns\\nfrom sklearn.model_selection import cross_val_score'); }\n",
       "    "
      ],
      "text/plain": [
       "<IPython.core.display.Javascript object>"
      ]
     },
     "metadata": {},
     "output_type": "display_data"
    }
   ],
   "source": [
    "# Log transform highly skewed features\n",
    "\n",
    "log_transformed_features = ['GrAppv', 'ChgOffPrinGr']\n",
    "for feature in log_transformed_features:\n",
    "    data[f'{feature}_log'] = np.log1p(data[feature])\n",
    "\n",
    "# Square root transform moderately skewed features\n",
    "sqrt_transformed_features = ['NoEmp', 'CreateJob', 'RetainedJob']\n",
    "for feature in sqrt_transformed_features:\n",
    "    data[f'{feature}_sqrt'] = np.sqrt(data[feature])"
   ]
  },
  {
   "cell_type": "code",
   "execution_count": 367,
   "id": "e32f2b73-2875-41a4-a5d0-d42a4f278276",
   "metadata": {},
   "outputs": [
    {
     "data": {
      "text/html": [
       "<div>\n",
       "<style scoped>\n",
       "    .dataframe tbody tr th:only-of-type {\n",
       "        vertical-align: middle;\n",
       "    }\n",
       "\n",
       "    .dataframe tbody tr th {\n",
       "        vertical-align: top;\n",
       "    }\n",
       "\n",
       "    .dataframe thead th {\n",
       "        text-align: right;\n",
       "    }\n",
       "</style>\n",
       "<table border=\"1\" class=\"dataframe\">\n",
       "  <thead>\n",
       "    <tr style=\"text-align: right;\">\n",
       "      <th></th>\n",
       "      <th>NoEmp</th>\n",
       "      <th>CreateJob</th>\n",
       "      <th>RetainedJob</th>\n",
       "    </tr>\n",
       "  </thead>\n",
       "  <tbody>\n",
       "    <tr>\n",
       "      <th>count</th>\n",
       "      <td>158583.000000</td>\n",
       "      <td>158583.000000</td>\n",
       "      <td>158583.000000</td>\n",
       "    </tr>\n",
       "    <tr>\n",
       "      <th>mean</th>\n",
       "      <td>11.620609</td>\n",
       "      <td>9.113953</td>\n",
       "      <td>11.321491</td>\n",
       "    </tr>\n",
       "    <tr>\n",
       "      <th>std</th>\n",
       "      <td>71.403868</td>\n",
       "      <td>248.638404</td>\n",
       "      <td>248.562569</td>\n",
       "    </tr>\n",
       "    <tr>\n",
       "      <th>min</th>\n",
       "      <td>0.000000</td>\n",
       "      <td>0.000000</td>\n",
       "      <td>0.000000</td>\n",
       "    </tr>\n",
       "    <tr>\n",
       "      <th>25%</th>\n",
       "      <td>2.000000</td>\n",
       "      <td>0.000000</td>\n",
       "      <td>0.000000</td>\n",
       "    </tr>\n",
       "    <tr>\n",
       "      <th>50%</th>\n",
       "      <td>4.000000</td>\n",
       "      <td>0.000000</td>\n",
       "      <td>0.000000</td>\n",
       "    </tr>\n",
       "    <tr>\n",
       "      <th>75%</th>\n",
       "      <td>10.000000</td>\n",
       "      <td>1.000000</td>\n",
       "      <td>4.000000</td>\n",
       "    </tr>\n",
       "    <tr>\n",
       "      <th>max</th>\n",
       "      <td>9000.000000</td>\n",
       "      <td>8800.000000</td>\n",
       "      <td>8800.000000</td>\n",
       "    </tr>\n",
       "  </tbody>\n",
       "</table>\n",
       "</div>"
      ],
      "text/plain": [
       "               NoEmp      CreateJob    RetainedJob\n",
       "count  158583.000000  158583.000000  158583.000000\n",
       "mean       11.620609       9.113953      11.321491\n",
       "std        71.403868     248.638404     248.562569\n",
       "min         0.000000       0.000000       0.000000\n",
       "25%         2.000000       0.000000       0.000000\n",
       "50%         4.000000       0.000000       0.000000\n",
       "75%        10.000000       1.000000       4.000000\n",
       "max      9000.000000    8800.000000    8800.000000"
      ]
     },
     "execution_count": 367,
     "metadata": {},
     "output_type": "execute_result"
    }
   ],
   "source": [
    "data[['NoEmp', 'CreateJob', 'RetainedJob']].describe()"
   ]
  },
  {
   "cell_type": "code",
   "execution_count": 368,
   "id": "30f409fb-d23d-4b7d-9c5d-b1548700cae8",
   "metadata": {
    "scrolled": true
   },
   "outputs": [
    {
     "data": {
      "image/png": "[encoded data removed]",
      "text/plain": [
       "<Figure size 1200x600 with 2 Axes>"
      ]
     },
     "metadata": {},
     "output_type": "display_data"
    },
    {
     "data": {
      "image/png": "[encoded data removed]",
      "text/plain": [
       "<Figure size 1200x600 with 2 Axes>"
      ]
     },
     "metadata": {},
     "output_type": "display_data"
    },
    {
     "data": {
      "image/png": "[encoded data removed]",
      "text/plain": [
       "<Figure size 1200x600 with 2 Axes>"
      ]
     },
     "metadata": {},
     "output_type": "display_data"
    },
    {
     "data": {
      "image/png": "[encoded data removed]",
      "text/plain": [
       "<Figure size 1200x600 with 2 Axes>"
      ]
     },
     "metadata": {},
     "output_type": "display_data"
    },
    {
     "data": {
      "image/png": "[encoded data removed]",
      "text/plain": [
       "<Figure size 1200x600 with 2 Axes>"
      ]
     },
     "metadata": {},
     "output_type": "display_data"
    }
   ],
   "source": [
    "transformed_features = [f'{feature}_log' for feature in log_transformed_features] + \\\n",
    "                       [f'{feature}_sqrt' for feature in sqrt_transformed_features]\n",
    "\n",
    "for feature in transformed_features:\n",
    "    plt.figure(figsize=(12, 6))\n",
    "\n",
    "    # Histogram\n",
    "    plt.subplot(1, 2, 1)\n",
    "    sns.histplot(data[feature], kde=True, bins=30)\n",
    "    plt.title(f\"Histogram of {feature}\")\n",
    "\n",
    "    # Boxplot\n",
    "    plt.subplot(1, 2, 2)\n",
    "    sns.boxplot(x=data[feature],palette='Set2')\n",
    "    plt.title(f\"Boxplot of {feature}\")\n",
    "\n",
    "    # Adjust layout to avoid overlapping\n",
    "    plt.tight_layout()\n",
    "    plt.show()"
   ]
  },
  {
   "cell_type": "markdown",
   "id": "cabb87c5-a087-4936-a81b-b7e25a6e695f",
   "metadata": {},
   "source": [
    "**Skewness:** All variables except GrAppv_log show right-skewed distributions, with most data points concentrated near zero.<br>\n",
    "**Outliers:** Createjob_sqrt, NoEmp_sqrt, and Retainedjob_sqrt have significant outliers, indicating the presence of extreme values.<br>\n",
    "**Central Tendency:** The medians for Createjob_sqrt, NoEmp_sqrt, and Retainedjob_sqrt are close to zero, while GrAppv_log has a median around 11.<br>\n",
    "**Spread:** The IQRs for Createjob_sqrt, NoEmp_sqrt, and Retainedjob_sqrt are small, indicating that most data points are clustered around lower values. GrAppv_log has a wider IQR, indicating more spread in the data.<br>\n",
    "These observations suggest that the variables Createjob_sqrt, NoEmp_sqrt, and Retainedjob_sqrt may require transformation or normalization."
   ]
  },
  {
   "cell_type": "code",
   "execution_count": 369,
   "id": "1be6a838-8fc0-4161-81d7-c0293b56cd13",
   "metadata": {},
   "outputs": [
    {
     "data": {
      "text/html": [
       "<div>\n",
       "<style scoped>\n",
       "    .dataframe tbody tr th:only-of-type {\n",
       "        vertical-align: middle;\n",
       "    }\n",
       "\n",
       "    .dataframe tbody tr th {\n",
       "        vertical-align: top;\n",
       "    }\n",
       "\n",
       "    .dataframe thead th {\n",
       "        text-align: right;\n",
       "    }\n",
       "</style>\n",
       "<table border=\"1\" class=\"dataframe\">\n",
       "  <thead>\n",
       "    <tr style=\"text-align: right;\">\n",
       "      <th></th>\n",
       "      <th>Term</th>\n",
       "      <th>NoEmp</th>\n",
       "      <th>NewExist</th>\n",
       "      <th>CreateJob</th>\n",
       "      <th>RetainedJob</th>\n",
       "      <th>UrbanRural</th>\n",
       "      <th>RevLineCr</th>\n",
       "      <th>MIS_Status</th>\n",
       "      <th>ChgOffPrinGr</th>\n",
       "      <th>GrAppv</th>\n",
       "      <th>Portion</th>\n",
       "      <th>RealEstate</th>\n",
       "      <th>GrAppv_log</th>\n",
       "      <th>ChgOffPrinGr_log</th>\n",
       "      <th>NoEmp_sqrt</th>\n",
       "      <th>CreateJob_sqrt</th>\n",
       "      <th>RetainedJob_sqrt</th>\n",
       "    </tr>\n",
       "  </thead>\n",
       "  <tbody>\n",
       "    <tr>\n",
       "      <th>614156</th>\n",
       "      <td>84</td>\n",
       "      <td>2</td>\n",
       "      <td>2</td>\n",
       "      <td>0</td>\n",
       "      <td>0</td>\n",
       "      <td>Rural</td>\n",
       "      <td>N</td>\n",
       "      <td>P I F</td>\n",
       "      <td>0.0</td>\n",
       "      <td>225000.0</td>\n",
       "      <td>0.85</td>\n",
       "      <td>0</td>\n",
       "      <td>12.323860</td>\n",
       "      <td>0.0</td>\n",
       "      <td>1.414214</td>\n",
       "      <td>0.0</td>\n",
       "      <td>0.0</td>\n",
       "    </tr>\n",
       "    <tr>\n",
       "      <th>837937</th>\n",
       "      <td>12</td>\n",
       "      <td>3</td>\n",
       "      <td>1</td>\n",
       "      <td>0</td>\n",
       "      <td>0</td>\n",
       "      <td>Urban</td>\n",
       "      <td>N</td>\n",
       "      <td>P I F</td>\n",
       "      <td>0.0</td>\n",
       "      <td>1000000.0</td>\n",
       "      <td>0.75</td>\n",
       "      <td>0</td>\n",
       "      <td>13.815512</td>\n",
       "      <td>0.0</td>\n",
       "      <td>1.732051</td>\n",
       "      <td>0.0</td>\n",
       "      <td>0.0</td>\n",
       "    </tr>\n",
       "    <tr>\n",
       "      <th>766128</th>\n",
       "      <td>60</td>\n",
       "      <td>3</td>\n",
       "      <td>2</td>\n",
       "      <td>0</td>\n",
       "      <td>0</td>\n",
       "      <td>Rural</td>\n",
       "      <td>N</td>\n",
       "      <td>P I F</td>\n",
       "      <td>0.0</td>\n",
       "      <td>30800.0</td>\n",
       "      <td>0.83</td>\n",
       "      <td>0</td>\n",
       "      <td>10.335302</td>\n",
       "      <td>0.0</td>\n",
       "      <td>1.732051</td>\n",
       "      <td>0.0</td>\n",
       "      <td>0.0</td>\n",
       "    </tr>\n",
       "  </tbody>\n",
       "</table>\n",
       "</div>"
      ],
      "text/plain": [
       "        Term  NoEmp  NewExist  CreateJob  RetainedJob UrbanRural RevLineCr  \\\n",
       "614156    84      2         2          0            0      Rural         N   \n",
       "837937    12      3         1          0            0      Urban         N   \n",
       "766128    60      3         2          0            0      Rural         N   \n",
       "\n",
       "       MIS_Status  ChgOffPrinGr     GrAppv  Portion  RealEstate  GrAppv_log  \\\n",
       "614156      P I F           0.0   225000.0     0.85           0   12.323860   \n",
       "837937      P I F           0.0  1000000.0     0.75           0   13.815512   \n",
       "766128      P I F           0.0    30800.0     0.83           0   10.335302   \n",
       "\n",
       "        ChgOffPrinGr_log  NoEmp_sqrt  CreateJob_sqrt  RetainedJob_sqrt  \n",
       "614156               0.0    1.414214             0.0               0.0  \n",
       "837937               0.0    1.732051             0.0               0.0  \n",
       "766128               0.0    1.732051             0.0               0.0  "
      ]
     },
     "execution_count": 369,
     "metadata": {},
     "output_type": "execute_result"
    }
   ],
   "source": [
    "data.head(3)"
   ]
  },
  {
   "cell_type": "code",
   "execution_count": 370,
   "id": "c9a094dc-1a98-4d4e-b85a-fa620657013a",
   "metadata": {},
   "outputs": [],
   "source": [
    "data = data.drop(columns=['GrAppv', 'ChgOffPrinGr', 'NoEmp', 'CreateJob', 'RetainedJob'])"
   ]
  },
  {
   "cell_type": "code",
   "execution_count": 371,
   "id": "1def0caf-87a1-4924-8705-be5398882b36",
   "metadata": {},
   "outputs": [
    {
     "data": {
      "text/html": [
       "<div>\n",
       "<style scoped>\n",
       "    .dataframe tbody tr th:only-of-type {\n",
       "        vertical-align: middle;\n",
       "    }\n",
       "\n",
       "    .dataframe tbody tr th {\n",
       "        vertical-align: top;\n",
       "    }\n",
       "\n",
       "    .dataframe thead th {\n",
       "        text-align: right;\n",
       "    }\n",
       "</style>\n",
       "<table border=\"1\" class=\"dataframe\">\n",
       "  <thead>\n",
       "    <tr style=\"text-align: right;\">\n",
       "      <th></th>\n",
       "      <th>Term</th>\n",
       "      <th>NewExist</th>\n",
       "      <th>UrbanRural</th>\n",
       "      <th>RevLineCr</th>\n",
       "      <th>MIS_Status</th>\n",
       "      <th>Portion</th>\n",
       "      <th>RealEstate</th>\n",
       "      <th>GrAppv_log</th>\n",
       "      <th>ChgOffPrinGr_log</th>\n",
       "      <th>NoEmp_sqrt</th>\n",
       "      <th>CreateJob_sqrt</th>\n",
       "      <th>RetainedJob_sqrt</th>\n",
       "    </tr>\n",
       "  </thead>\n",
       "  <tbody>\n",
       "    <tr>\n",
       "      <th>614156</th>\n",
       "      <td>84</td>\n",
       "      <td>2</td>\n",
       "      <td>Rural</td>\n",
       "      <td>N</td>\n",
       "      <td>P I F</td>\n",
       "      <td>0.85</td>\n",
       "      <td>0</td>\n",
       "      <td>12.323860</td>\n",
       "      <td>0.0</td>\n",
       "      <td>1.414214</td>\n",
       "      <td>0.0</td>\n",
       "      <td>0.0</td>\n",
       "    </tr>\n",
       "    <tr>\n",
       "      <th>837937</th>\n",
       "      <td>12</td>\n",
       "      <td>1</td>\n",
       "      <td>Urban</td>\n",
       "      <td>N</td>\n",
       "      <td>P I F</td>\n",
       "      <td>0.75</td>\n",
       "      <td>0</td>\n",
       "      <td>13.815512</td>\n",
       "      <td>0.0</td>\n",
       "      <td>1.732051</td>\n",
       "      <td>0.0</td>\n",
       "      <td>0.0</td>\n",
       "    </tr>\n",
       "  </tbody>\n",
       "</table>\n",
       "</div>"
      ],
      "text/plain": [
       "        Term  NewExist UrbanRural RevLineCr MIS_Status  Portion  RealEstate  \\\n",
       "614156    84         2      Rural         N      P I F     0.85           0   \n",
       "837937    12         1      Urban         N      P I F     0.75           0   \n",
       "\n",
       "        GrAppv_log  ChgOffPrinGr_log  NoEmp_sqrt  CreateJob_sqrt  \\\n",
       "614156   12.323860               0.0    1.414214             0.0   \n",
       "837937   13.815512               0.0    1.732051             0.0   \n",
       "\n",
       "        RetainedJob_sqrt  \n",
       "614156               0.0  \n",
       "837937               0.0  "
      ]
     },
     "execution_count": 371,
     "metadata": {},
     "output_type": "execute_result"
    }
   ],
   "source": [
    "data.head(2)"
   ]
  },
  {
   "cell_type": "code",
   "execution_count": 372,
   "id": "9b158da7-e76f-422b-8439-2d21334f8ffb",
   "metadata": {},
   "outputs": [],
   "source": [
    "numerical_features = ['Term', 'GrAppv_log', 'ChgOffPrinGr_log', 'NoEmp_sqrt', 'CreateJob_sqrt', 'RetainedJob_sqrt', 'Portion']\n",
    "categorical_features = ['RevLineCr', 'MIS_Status', 'UrbanRural', 'NewExist', 'RealEstate']"
   ]
  },
  {
   "cell_type": "markdown",
   "id": "66cc5156-c3e9-499b-9972-aebb6688a2d0",
   "metadata": {},
   "source": [
    "## One-Way Anova"
   ]
  },
  {
   "cell_type": "code",
   "execution_count": 373,
   "id": "088ae46f-f6d5-4ce2-bcf0-9cc6185585b6",
   "metadata": {},
   "outputs": [
    {
     "data": {
      "application/javascript": [
       "\n",
       "        if (window._pyforest_update_imports_cell) { window._pyforest_update_imports_cell('import numpy as np\\nimport matplotlib.pyplot as plt\\nfrom sklearn.linear_model import LogisticRegression\\nfrom sklearn.preprocessing import StandardScaler\\nfrom sklearn.model_selection import GridSearchCV\\nimport pandas as pd\\nimport seaborn as sns\\nfrom sklearn.model_selection import cross_val_score'); }\n",
       "    "
      ],
      "text/plain": [
       "<IPython.core.display.Javascript object>"
      ]
     },
     "metadata": {},
     "output_type": "display_data"
    },
    {
     "name": "stdout",
     "output_type": "stream",
     "text": [
      "\n",
      "Significant results (p-value < 0.05):\n",
      "                                F-Statistic        p-value\n",
      "Term ~ RevLineCr               1.998139e+04   0.000000e+00\n",
      "GrAppv_log ~ RevLineCr         2.961612e+04   0.000000e+00\n",
      "ChgOffPrinGr_log ~ RevLineCr   1.764115e+03   0.000000e+00\n",
      "NoEmp_sqrt ~ RevLineCr         2.818339e+03   0.000000e+00\n",
      "CreateJob_sqrt ~ RevLineCr     6.749847e+01   2.124153e-16\n",
      "RetainedJob_sqrt ~ RevLineCr   1.973600e+03   0.000000e+00\n",
      "Portion ~ RevLineCr            1.003374e+05   0.000000e+00\n",
      "Term ~ MIS_Status              1.746789e+04   0.000000e+00\n",
      "GrAppv_log ~ MIS_Status        5.662844e+03   0.000000e+00\n",
      "ChgOffPrinGr_log ~ MIS_Status  2.788475e+06   0.000000e+00\n",
      "NoEmp_sqrt ~ MIS_Status        1.770687e+03   0.000000e+00\n",
      "CreateJob_sqrt ~ MIS_Status    4.148433e+01   1.191577e-10\n",
      "RetainedJob_sqrt ~ MIS_Status  5.583808e+02  3.094464e-123\n",
      "Portion ~ MIS_Status           5.361700e+03   0.000000e+00\n",
      "Term ~ UrbanRural              1.053875e+04   0.000000e+00\n",
      "GrAppv_log ~ UrbanRural        9.203408e+03   0.000000e+00\n",
      "ChgOffPrinGr_log ~ UrbanRural  8.306647e+03   0.000000e+00\n",
      "NoEmp_sqrt ~ UrbanRural        4.348821e+03   0.000000e+00\n",
      "CreateJob_sqrt ~ UrbanRural    4.296476e+02   2.596225e-95\n",
      "RetainedJob_sqrt ~ UrbanRural  7.043694e+03   0.000000e+00\n",
      "Portion ~ UrbanRural           5.438694e+04   0.000000e+00\n",
      "Term ~ NewExist                8.895979e+02  6.225025e-195\n",
      "GrAppv_log ~ NewExist          8.429295e+02  7.666779e-185\n",
      "ChgOffPrinGr_log ~ NewExist    7.050026e+01   4.639264e-17\n",
      "NoEmp_sqrt ~ NewExist          5.463928e+03   0.000000e+00\n",
      "CreateJob_sqrt ~ NewExist      6.582380e+01   4.965723e-16\n",
      "RetainedJob_sqrt ~ NewExist    1.126498e+03  4.226577e-246\n",
      "Portion ~ NewExist             1.062260e+03  3.105623e-232\n",
      "Term ~ RealEstate              5.051969e+05   0.000000e+00\n",
      "GrAppv_log ~ RealEstate        4.837534e+04   0.000000e+00\n",
      "ChgOffPrinGr_log ~ RealEstate  5.932467e+03   0.000000e+00\n",
      "NoEmp_sqrt ~ RealEstate        6.146075e+03   0.000000e+00\n",
      "CreateJob_sqrt ~ RealEstate    3.120679e+03   0.000000e+00\n",
      "RetainedJob_sqrt ~ RealEstate  2.323915e+02   1.954610e-52\n",
      "Portion ~ RealEstate           2.739053e+04   0.000000e+00\n"
     ]
    }
   ],
   "source": [
    "from scipy.stats import f_oneway\n",
    "\n",
    "# Function to perform ANOVA for each numerical feature vs each categorical feature\n",
    "def perform_anova(df, numerical_features, categorical_features):\n",
    "    results = {}\n",
    "    \n",
    "    for cat_feature in categorical_features:\n",
    "        for num_feature in numerical_features:\n",
    "            # Create groups for the ANOVA\n",
    "            groups = [df[df[cat_feature] == category][num_feature].dropna() for category in df[cat_feature].unique()]\n",
    "            \n",
    "            # Perform one-way ANOVA\n",
    "            f_stat, p_val = f_oneway(*groups)\n",
    "            \n",
    "            # Store the results\n",
    "            results[f\"{num_feature} ~ {cat_feature}\"] = {'F-Statistic': f_stat, 'p-value': p_val}\n",
    "    \n",
    "    return pd.DataFrame(results).T\n",
    "\n",
    "# Perform ANOVA on each combination of numerical and categorical feature\n",
    "anova_results = perform_anova(data, numerical_features, categorical_features)\n",
    "\n",
    "# Filter for significant results (p-value < 0.05)\n",
    "significant_results = anova_results[anova_results['p-value'] < 0.05]\n",
    "\n",
    "# Display results\n",
    "# print(anova_results)\n",
    "print(\"\\nSignificant results (p-value < 0.05):\")\n",
    "print(significant_results)"
   ]
  },
  {
   "cell_type": "markdown",
   "id": "48bb6931-90ab-4759-80f1-cdc280e7c972",
   "metadata": {},
   "source": [
    "Extremely Strong Relationships: These are characterized by very high F-statistics (often in the thousands) and p-values that are practically zero. These indicate that the independent variable (e.g., RealEstate, RevLineCr) has a very strong influence on the dependent variable (e.g., Term, Portion), with clear and distinct differences between the groups.\n",
    "\n",
    "Moderate but Significant Relationships: These have lower F-statistics (often in the single to low double digits) and p-values that are still below the 0.05 threshold. These indicate that the independent variable has a significant influence on the dependent variable, but the effect is not as strong. The differences between groups are still notable but less pronounced."
   ]
  },
  {
   "cell_type": "markdown",
   "id": "d17d0a8b-2d37-46c7-88dd-557a1eca7d1e",
   "metadata": {},
   "source": [
    "## One Hot encoding"
   ]
  },
  {
   "cell_type": "markdown",
   "id": "0a0dbaa8-4fd9-465b-8a41-3f1cbaf62f6c",
   "metadata": {},
   "source": [
    "The categorical features \"RevLineCr,\" \"MIS_Status,\" \"UrbanRural,\" \"NewExist,\" and \"RealEstate\" all have binary values. Let us use One Hot Encoding to convert them."
   ]
  },
  {
   "cell_type": "code",
   "execution_count": 374,
   "id": "71b58b1b-8a93-4208-af6d-d98ac94908e7",
   "metadata": {},
   "outputs": [
    {
     "data": {
      "text/html": [
       "<div>\n",
       "<style scoped>\n",
       "    .dataframe tbody tr th:only-of-type {\n",
       "        vertical-align: middle;\n",
       "    }\n",
       "\n",
       "    .dataframe tbody tr th {\n",
       "        vertical-align: top;\n",
       "    }\n",
       "\n",
       "    .dataframe thead th {\n",
       "        text-align: right;\n",
       "    }\n",
       "</style>\n",
       "<table border=\"1\" class=\"dataframe\">\n",
       "  <thead>\n",
       "    <tr style=\"text-align: right;\">\n",
       "      <th></th>\n",
       "      <th>Term</th>\n",
       "      <th>NewExist</th>\n",
       "      <th>UrbanRural</th>\n",
       "      <th>RevLineCr</th>\n",
       "      <th>MIS_Status</th>\n",
       "      <th>Portion</th>\n",
       "      <th>RealEstate</th>\n",
       "      <th>GrAppv_log</th>\n",
       "      <th>ChgOffPrinGr_log</th>\n",
       "      <th>NoEmp_sqrt</th>\n",
       "      <th>CreateJob_sqrt</th>\n",
       "      <th>RetainedJob_sqrt</th>\n",
       "    </tr>\n",
       "  </thead>\n",
       "  <tbody>\n",
       "    <tr>\n",
       "      <th>614156</th>\n",
       "      <td>84</td>\n",
       "      <td>2</td>\n",
       "      <td>Rural</td>\n",
       "      <td>N</td>\n",
       "      <td>P I F</td>\n",
       "      <td>0.85</td>\n",
       "      <td>0</td>\n",
       "      <td>12.323860</td>\n",
       "      <td>0.0</td>\n",
       "      <td>1.414214</td>\n",
       "      <td>0.0</td>\n",
       "      <td>0.0</td>\n",
       "    </tr>\n",
       "    <tr>\n",
       "      <th>837937</th>\n",
       "      <td>12</td>\n",
       "      <td>1</td>\n",
       "      <td>Urban</td>\n",
       "      <td>N</td>\n",
       "      <td>P I F</td>\n",
       "      <td>0.75</td>\n",
       "      <td>0</td>\n",
       "      <td>13.815512</td>\n",
       "      <td>0.0</td>\n",
       "      <td>1.732051</td>\n",
       "      <td>0.0</td>\n",
       "      <td>0.0</td>\n",
       "    </tr>\n",
       "  </tbody>\n",
       "</table>\n",
       "</div>"
      ],
      "text/plain": [
       "        Term  NewExist UrbanRural RevLineCr MIS_Status  Portion  RealEstate  \\\n",
       "614156    84         2      Rural         N      P I F     0.85           0   \n",
       "837937    12         1      Urban         N      P I F     0.75           0   \n",
       "\n",
       "        GrAppv_log  ChgOffPrinGr_log  NoEmp_sqrt  CreateJob_sqrt  \\\n",
       "614156   12.323860               0.0    1.414214             0.0   \n",
       "837937   13.815512               0.0    1.732051             0.0   \n",
       "\n",
       "        RetainedJob_sqrt  \n",
       "614156               0.0  \n",
       "837937               0.0  "
      ]
     },
     "execution_count": 374,
     "metadata": {},
     "output_type": "execute_result"
    }
   ],
   "source": [
    "data.head(2)"
   ]
  },
  {
   "cell_type": "code",
   "execution_count": 375,
   "id": "86f85213-1b6c-437e-a2e1-fa2d13f2794e",
   "metadata": {},
   "outputs": [
    {
     "data": {
      "application/javascript": [
       "\n",
       "        if (window._pyforest_update_imports_cell) { window._pyforest_update_imports_cell('import numpy as np\\nimport matplotlib.pyplot as plt\\nfrom sklearn.linear_model import LogisticRegression\\nfrom sklearn.preprocessing import StandardScaler\\nfrom sklearn.model_selection import GridSearchCV\\nimport pandas as pd\\nimport seaborn as sns\\nfrom sklearn.model_selection import cross_val_score'); }\n",
       "    "
      ],
      "text/plain": [
       "<IPython.core.display.Javascript object>"
      ]
     },
     "metadata": {},
     "output_type": "display_data"
    }
   ],
   "source": [
    "data = pd.get_dummies(data, columns=categorical_features, drop_first=True)"
   ]
  },
  {
   "cell_type": "code",
   "execution_count": 376,
   "id": "b2e5c681-1e49-4f04-9a9f-39c4fef8039e",
   "metadata": {},
   "outputs": [
    {
     "data": {
      "text/html": [
       "<div>\n",
       "<style scoped>\n",
       "    .dataframe tbody tr th:only-of-type {\n",
       "        vertical-align: middle;\n",
       "    }\n",
       "\n",
       "    .dataframe tbody tr th {\n",
       "        vertical-align: top;\n",
       "    }\n",
       "\n",
       "    .dataframe thead th {\n",
       "        text-align: right;\n",
       "    }\n",
       "</style>\n",
       "<table border=\"1\" class=\"dataframe\">\n",
       "  <thead>\n",
       "    <tr style=\"text-align: right;\">\n",
       "      <th></th>\n",
       "      <th>Term</th>\n",
       "      <th>Portion</th>\n",
       "      <th>GrAppv_log</th>\n",
       "      <th>ChgOffPrinGr_log</th>\n",
       "      <th>NoEmp_sqrt</th>\n",
       "      <th>CreateJob_sqrt</th>\n",
       "      <th>RetainedJob_sqrt</th>\n",
       "      <th>RevLineCr_Y</th>\n",
       "      <th>MIS_Status_P I F</th>\n",
       "      <th>UrbanRural_Urban</th>\n",
       "      <th>NewExist_2</th>\n",
       "      <th>RealEstate_1</th>\n",
       "    </tr>\n",
       "  </thead>\n",
       "  <tbody>\n",
       "    <tr>\n",
       "      <th>614156</th>\n",
       "      <td>84</td>\n",
       "      <td>0.85</td>\n",
       "      <td>12.323860</td>\n",
       "      <td>0.0</td>\n",
       "      <td>1.414214</td>\n",
       "      <td>0.0</td>\n",
       "      <td>0.0</td>\n",
       "      <td>False</td>\n",
       "      <td>True</td>\n",
       "      <td>False</td>\n",
       "      <td>True</td>\n",
       "      <td>False</td>\n",
       "    </tr>\n",
       "    <tr>\n",
       "      <th>837937</th>\n",
       "      <td>12</td>\n",
       "      <td>0.75</td>\n",
       "      <td>13.815512</td>\n",
       "      <td>0.0</td>\n",
       "      <td>1.732051</td>\n",
       "      <td>0.0</td>\n",
       "      <td>0.0</td>\n",
       "      <td>False</td>\n",
       "      <td>True</td>\n",
       "      <td>True</td>\n",
       "      <td>False</td>\n",
       "      <td>False</td>\n",
       "    </tr>\n",
       "    <tr>\n",
       "      <th>766128</th>\n",
       "      <td>60</td>\n",
       "      <td>0.83</td>\n",
       "      <td>10.335302</td>\n",
       "      <td>0.0</td>\n",
       "      <td>1.732051</td>\n",
       "      <td>0.0</td>\n",
       "      <td>0.0</td>\n",
       "      <td>False</td>\n",
       "      <td>True</td>\n",
       "      <td>False</td>\n",
       "      <td>True</td>\n",
       "      <td>False</td>\n",
       "    </tr>\n",
       "  </tbody>\n",
       "</table>\n",
       "</div>"
      ],
      "text/plain": [
       "        Term  Portion  GrAppv_log  ChgOffPrinGr_log  NoEmp_sqrt  \\\n",
       "614156    84     0.85   12.323860               0.0    1.414214   \n",
       "837937    12     0.75   13.815512               0.0    1.732051   \n",
       "766128    60     0.83   10.335302               0.0    1.732051   \n",
       "\n",
       "        CreateJob_sqrt  RetainedJob_sqrt  RevLineCr_Y  MIS_Status_P I F  \\\n",
       "614156             0.0               0.0        False              True   \n",
       "837937             0.0               0.0        False              True   \n",
       "766128             0.0               0.0        False              True   \n",
       "\n",
       "        UrbanRural_Urban  NewExist_2  RealEstate_1  \n",
       "614156             False        True         False  \n",
       "837937              True       False         False  \n",
       "766128             False        True         False  "
      ]
     },
     "execution_count": 376,
     "metadata": {},
     "output_type": "execute_result"
    }
   ],
   "source": [
    "data.head(3)"
   ]
  },
  {
   "cell_type": "code",
   "execution_count": 377,
   "id": "6b17cd5a-8f7f-4a7e-8d68-65f4f6333484",
   "metadata": {},
   "outputs": [
    {
     "data": {
      "text/html": [
       "<div>\n",
       "<style scoped>\n",
       "    .dataframe tbody tr th:only-of-type {\n",
       "        vertical-align: middle;\n",
       "    }\n",
       "\n",
       "    .dataframe tbody tr th {\n",
       "        vertical-align: top;\n",
       "    }\n",
       "\n",
       "    .dataframe thead th {\n",
       "        text-align: right;\n",
       "    }\n",
       "</style>\n",
       "<table border=\"1\" class=\"dataframe\">\n",
       "  <thead>\n",
       "    <tr style=\"text-align: right;\">\n",
       "      <th></th>\n",
       "      <th>Term</th>\n",
       "      <th>Portion</th>\n",
       "      <th>GrAppv_log</th>\n",
       "      <th>ChgOffPrinGr_log</th>\n",
       "      <th>NoEmp_sqrt</th>\n",
       "      <th>CreateJob_sqrt</th>\n",
       "      <th>RetainedJob_sqrt</th>\n",
       "      <th>RevLineCr</th>\n",
       "      <th>MIS_Status</th>\n",
       "      <th>UrbanRural</th>\n",
       "      <th>NewExist</th>\n",
       "      <th>RealEstate</th>\n",
       "    </tr>\n",
       "  </thead>\n",
       "  <tbody>\n",
       "    <tr>\n",
       "      <th>614156</th>\n",
       "      <td>84</td>\n",
       "      <td>0.85</td>\n",
       "      <td>12.323860</td>\n",
       "      <td>0.0</td>\n",
       "      <td>1.414214</td>\n",
       "      <td>0.0</td>\n",
       "      <td>0.0</td>\n",
       "      <td>0</td>\n",
       "      <td>1</td>\n",
       "      <td>0</td>\n",
       "      <td>1</td>\n",
       "      <td>0</td>\n",
       "    </tr>\n",
       "    <tr>\n",
       "      <th>837937</th>\n",
       "      <td>12</td>\n",
       "      <td>0.75</td>\n",
       "      <td>13.815512</td>\n",
       "      <td>0.0</td>\n",
       "      <td>1.732051</td>\n",
       "      <td>0.0</td>\n",
       "      <td>0.0</td>\n",
       "      <td>0</td>\n",
       "      <td>1</td>\n",
       "      <td>1</td>\n",
       "      <td>0</td>\n",
       "      <td>0</td>\n",
       "    </tr>\n",
       "    <tr>\n",
       "      <th>766128</th>\n",
       "      <td>60</td>\n",
       "      <td>0.83</td>\n",
       "      <td>10.335302</td>\n",
       "      <td>0.0</td>\n",
       "      <td>1.732051</td>\n",
       "      <td>0.0</td>\n",
       "      <td>0.0</td>\n",
       "      <td>0</td>\n",
       "      <td>1</td>\n",
       "      <td>0</td>\n",
       "      <td>1</td>\n",
       "      <td>0</td>\n",
       "    </tr>\n",
       "    <tr>\n",
       "      <th>214921</th>\n",
       "      <td>60</td>\n",
       "      <td>0.75</td>\n",
       "      <td>10.819798</td>\n",
       "      <td>0.0</td>\n",
       "      <td>1.732051</td>\n",
       "      <td>0.0</td>\n",
       "      <td>0.0</td>\n",
       "      <td>0</td>\n",
       "      <td>1</td>\n",
       "      <td>0</td>\n",
       "      <td>0</td>\n",
       "      <td>0</td>\n",
       "    </tr>\n",
       "    <tr>\n",
       "      <th>335738</th>\n",
       "      <td>60</td>\n",
       "      <td>0.50</td>\n",
       "      <td>10.126671</td>\n",
       "      <td>0.0</td>\n",
       "      <td>1.414214</td>\n",
       "      <td>0.0</td>\n",
       "      <td>0.0</td>\n",
       "      <td>1</td>\n",
       "      <td>1</td>\n",
       "      <td>1</td>\n",
       "      <td>0</td>\n",
       "      <td>0</td>\n",
       "    </tr>\n",
       "  </tbody>\n",
       "</table>\n",
       "</div>"
      ],
      "text/plain": [
       "        Term  Portion  GrAppv_log  ChgOffPrinGr_log  NoEmp_sqrt  \\\n",
       "614156    84     0.85   12.323860               0.0    1.414214   \n",
       "837937    12     0.75   13.815512               0.0    1.732051   \n",
       "766128    60     0.83   10.335302               0.0    1.732051   \n",
       "214921    60     0.75   10.819798               0.0    1.732051   \n",
       "335738    60     0.50   10.126671               0.0    1.414214   \n",
       "\n",
       "        CreateJob_sqrt  RetainedJob_sqrt  RevLineCr  MIS_Status  UrbanRural  \\\n",
       "614156             0.0               0.0          0           1           0   \n",
       "837937             0.0               0.0          0           1           1   \n",
       "766128             0.0               0.0          0           1           0   \n",
       "214921             0.0               0.0          0           1           0   \n",
       "335738             0.0               0.0          1           1           1   \n",
       "\n",
       "        NewExist  RealEstate  \n",
       "614156         1           0  \n",
       "837937         0           0  \n",
       "766128         1           0  \n",
       "214921         0           0  \n",
       "335738         0           0  "
      ]
     },
     "execution_count": 377,
     "metadata": {},
     "output_type": "execute_result"
    }
   ],
   "source": [
    "new_column_names = {\n",
    "    'RevLineCr_Y': 'RevLineCr',\n",
    "    'MIS_Status_P I F': 'MIS_Status',\n",
    "    'UrbanRural_Urban': 'UrbanRural',\n",
    "    'NewExist_2': 'NewExist',\n",
    "    'RealEstate_1': 'RealEstate'\n",
    "}\n",
    "\n",
    "# Rename the columns\n",
    "data.rename(columns=new_column_names, inplace=True)\n",
    "\n",
    "data[categorical_features] = data[categorical_features].astype(int)\n",
    "data.head(5)"
   ]
  },
  {
   "cell_type": "markdown",
   "id": "fee88026-3ae3-4078-839e-953135352e47",
   "metadata": {},
   "source": [
    "### Model Building"
   ]
  },
  {
   "cell_type": "code",
   "execution_count": 378,
   "id": "1d493654-a441-4abd-982f-a72db08f2c2d",
   "metadata": {},
   "outputs": [],
   "source": [
    "# Importing libraries\n",
    "\n",
    "from sklearn.model_selection import train_test_split\n",
    "from sklearn.linear_model import LogisticRegression  # Use Logistic Regression for classification\n",
    "from sklearn.tree import DecisionTreeClassifier\n",
    "from sklearn.ensemble import RandomForestClassifier, GradientBoostingClassifier, AdaBoostClassifier, ExtraTreesClassifier\n",
    "from sklearn.svm import SVC\n",
    "from sklearn.naive_bayes import GaussianNB\n",
    "from sklearn.neighbors import KNeighborsClassifier\n",
    "from xgboost import XGBClassifier\n"
   ]
  },
  {
   "cell_type": "markdown",
   "id": "7559f3b7-1c8d-43bb-b3d2-d3f322fc9598",
   "metadata": {},
   "source": [
    "### Splitting data into train and test"
   ]
  },
  {
   "cell_type": "code",
   "execution_count": 379,
   "id": "7ae6aaf5-cc48-464e-bb69-41f8f3172d78",
   "metadata": {},
   "outputs": [],
   "source": [
    "X = data.drop(columns=['MIS_Status'])\n",
    "y = data['MIS_Status']"
   ]
  },
  {
   "cell_type": "code",
   "execution_count": 380,
   "id": "b9ad35a9-98b0-4a4a-aeea-fd779ce1ce5f",
   "metadata": {},
   "outputs": [
    {
     "name": "stdout",
     "output_type": "stream",
     "text": [
      "Training set shape: (126866, 12)\n",
      "Test set shape: (31717, 12)\n"
     ]
    }
   ],
   "source": [
    "X_train, X_test, y_train, y_test = train_test_split(X, y, test_size=0.2, random_state=42, stratify=y)\n",
    "\n",
    "\n",
    "train_df = X_train.copy()\n",
    "train_df['MIS_Status'] = y_train.values  \n",
    "\n",
    "test_df = X_test.copy()\n",
    "test_df['MIS_Status'] = y_test.values  \n",
    "\n",
    "\n",
    "print(\"Training set shape:\", train_df.shape)\n",
    "print(\"Test set shape:\", test_df.shape)"
   ]
  },
  {
   "cell_type": "code",
   "execution_count": 381,
   "id": "5c16386d-249d-4515-bfc4-5881c77f557b",
   "metadata": {},
   "outputs": [
    {
     "data": {
      "application/javascript": [
       "\n",
       "        if (window._pyforest_update_imports_cell) { window._pyforest_update_imports_cell('import numpy as np\\nimport matplotlib.pyplot as plt\\nfrom sklearn.linear_model import LogisticRegression\\nfrom sklearn.preprocessing import StandardScaler\\nfrom sklearn.model_selection import GridSearchCV\\nimport pandas as pd\\nimport seaborn as sns\\nfrom sklearn.model_selection import cross_val_score'); }\n",
       "    "
      ],
      "text/plain": [
       "<IPython.core.display.Javascript object>"
      ]
     },
     "metadata": {},
     "output_type": "display_data"
    },
    {
     "name": "stdout",
     "output_type": "stream",
     "text": [
      "             Feature  Importance\n",
      "3   ChgOffPrinGr_log    0.795326\n",
      "0               Term    0.134125\n",
      "2         GrAppv_log    0.016576\n",
      "8         UrbanRural    0.013227\n",
      "6   RetainedJob_sqrt    0.013010\n",
      "10        RealEstate    0.007953\n",
      "1            Portion    0.006560\n",
      "4         NoEmp_sqrt    0.006295\n",
      "5     CreateJob_sqrt    0.003425\n",
      "7          RevLineCr    0.001774\n",
      "9           NewExist    0.001729\n"
     ]
    }
   ],
   "source": [
    "# Feature importance check\n",
    "\n",
    "model = RandomForestClassifier()\n",
    "model.fit(X_train, y_train)\n",
    "importances = pd.DataFrame({\n",
    "    'Feature': X_train.columns,\n",
    "    'Importance': model.feature_importances_\n",
    "}).sort_values(by='Importance', ascending=False)\n",
    "print(importances)"
   ]
  },
  {
   "cell_type": "code",
   "execution_count": 382,
   "id": "f230d966-2dcf-46b1-9108-ed94fe282160",
   "metadata": {},
   "outputs": [],
   "source": [
    "# Drop least importance columns\n",
    "\n",
    "data = data.drop(columns=['RevLineCr', 'NewExist'])"
   ]
  },
  {
   "cell_type": "code",
   "execution_count": 383,
   "id": "c64fd9e6-4842-47c0-8003-d4e88459a783",
   "metadata": {},
   "outputs": [
    {
     "data": {
      "application/javascript": [
       "\n",
       "        if (window._pyforest_update_imports_cell) { window._pyforest_update_imports_cell('import numpy as np\\nimport matplotlib.pyplot as plt\\nfrom sklearn.linear_model import LogisticRegression\\nfrom sklearn.preprocessing import StandardScaler\\nfrom sklearn.model_selection import GridSearchCV\\nimport pandas as pd\\nimport seaborn as sns\\nfrom sklearn.model_selection import cross_val_score'); }\n",
       "    "
      ],
      "text/plain": [
       "<IPython.core.display.Javascript object>"
      ]
     },
     "metadata": {},
     "output_type": "display_data"
    }
   ],
   "source": [
    "scaler = StandardScaler()\n",
    "X_train_scaled = scaler.fit_transform(X_train)\n",
    "X_test_scaled = scaler.transform(X_test)"
   ]
  },
  {
   "cell_type": "code",
   "execution_count": 384,
   "id": "8ea3ef37-5aad-401a-8262-030819a24e35",
   "metadata": {},
   "outputs": [
    {
     "name": "stdout",
     "output_type": "stream",
     "text": [
      "Training set shape: (126866, 10)\n",
      "Test set shape: (31717, 10)\n"
     ]
    }
   ],
   "source": [
    "X = data.drop(columns=['MIS_Status'])\n",
    "y = data['MIS_Status']\n",
    "\n",
    "X_train, X_test, y_train, y_test = train_test_split(X, y, test_size=0.2, random_state=42, stratify=y)\n",
    "\n",
    "\n",
    "train_df = X_train.copy()\n",
    "train_df['MIS_Status'] = y_train.values  \n",
    "\n",
    "test_df = X_test.copy()\n",
    "test_df['MIS_Status'] = y_test.values  \n",
    "\n",
    "# Print dataset shapes\n",
    "print(\"Training set shape:\", train_df.shape)\n",
    "print(\"Test set shape:\", test_df.shape)"
   ]
  },
  {
   "cell_type": "markdown",
   "id": "43ffe64c-408d-4016-a42a-249aa2ff3fc4",
   "metadata": {},
   "source": [
    "### Logistic Regression"
   ]
  },
  {
   "cell_type": "code",
   "execution_count": 385,
   "id": "87edeeeb-f056-4896-ba70-a8f0cac65122",
   "metadata": {},
   "outputs": [],
   "source": [
    "from sklearn.metrics import accuracy_score, confusion_matrix, classification_report"
   ]
  },
  {
   "cell_type": "code",
   "execution_count": 408,
   "id": "c6f4a12c-2df8-4b0d-bca3-6456109d57a3",
   "metadata": {},
   "outputs": [
    {
     "name": "stdout",
     "output_type": "stream",
     "text": [
      "Classification Report:\n",
      "              precision    recall  f1-score   support\n",
      "\n",
      "           0       0.97      0.99      0.98      5464\n",
      "           1       1.00      0.99      1.00     26253\n",
      "\n",
      "    accuracy                           0.99     31717\n",
      "   macro avg       0.98      0.99      0.99     31717\n",
      "weighted avg       0.99      0.99      0.99     31717\n",
      "\n"
     ]
    }
   ],
   "source": [
    "model = LogisticRegression(max_iter=1000)\n",
    "model.fit(X_train, y_train)\n",
    "y_pred = model.predict(X_test)\n",
    "\n",
    "report = classification_report(y_test, y_pred)\n",
    "print(\"Classification Report:\")\n",
    "print(report)"
   ]
  },
  {
   "cell_type": "markdown",
   "id": "1a7f4e91-9ac9-4ac1-bed6-5011d4a22c19",
   "metadata": {},
   "source": [
    "The logistic regression model demonstrates exceptional performance after dropping the UrbanRural and NewExist features. The high precision, recall, and F1-scores for both classes indicate that the model is highly effective in classifying instances accurately. This suggests that the retained features are sufficient for making accurate predictions, and the model is well-optimized."
   ]
  },
  {
   "cell_type": "markdown",
   "id": "030b5a44-0cb7-46d2-aded-cb1ddc8eb4f2",
   "metadata": {},
   "source": [
    "### Confusion Matrix"
   ]
  },
  {
   "cell_type": "code",
   "execution_count": 387,
   "id": "66ef7d0c-0ff1-4e3a-a974-9eb3dfd9ad5c",
   "metadata": {},
   "outputs": [
    {
     "name": "stdout",
     "output_type": "stream",
     "text": [
      "[[ 5434    30]\n",
      " [  191 26062]]\n"
     ]
    }
   ],
   "source": [
    "confusion_matrix = confusion_matrix(y_test, y_pred)\n",
    "print(confusion_matrix)"
   ]
  },
  {
   "cell_type": "markdown",
   "id": "66c9bf0e-1869-49b5-a41f-27abf332ae7c",
   "metadata": {},
   "source": [
    "True Positives (TP): 26062\n",
    "These are the cases where the actual class is positive (1), and the model correctly predicted it as positive.<br>\n",
    "True Negatives (TN): 5434\n",
    "These are the cases where the actual class is negative (0), and the model correctly predicted it as negative.<br>\n",
    "False Positives (FP): 30\n",
    "These are the cases where the actual class is negative (0), but the model incorrectly predicted it as positive. In this case, there are no false positives.<br>\n",
    "False Negatives (FN): 191\n",
    "These are the cases where the actual class is positive (1), but the model incorrectly predicted it as neative.\n",
    "ative."
   ]
  },
  {
   "cell_type": "markdown",
   "id": "76fb6f3d-d125-4cda-ae43-b000eeb4488a",
   "metadata": {},
   "source": [
    "### Random Forest Classifier"
   ]
  },
  {
   "cell_type": "code",
   "execution_count": 414,
   "id": "9d2676ec-798b-4e75-8e0b-36ce5c386f9f",
   "metadata": {},
   "outputs": [
    {
     "name": "stdout",
     "output_type": "stream",
     "text": [
      "              precision    recall  f1-score   support\n",
      "\n",
      "           0       0.97      0.99      0.98      5464\n",
      "           1       1.00      0.99      1.00     26253\n",
      "\n",
      "    accuracy                           0.99     31717\n",
      "   macro avg       0.98      0.99      0.99     31717\n",
      "weighted avg       0.99      0.99      0.99     31717\n",
      "\n"
     ]
    }
   ],
   "source": [
    "model = RandomForestClassifier(random_state=42)\n",
    "\n",
    "model.fit(X_train, y_train)\n",
    "\n",
    "# Make predictions on the test set\n",
    "y_pred = model.predict(X_test)\n",
    "\n",
    "# Generate the classification report\n",
    "report = classification_report(y_test, y_pred)\n",
    "print(report)"
   ]
  },
  {
   "cell_type": "markdown",
   "id": "3e8e9a98-f7dc-4aac-8fbc-c5f03d53d5ab",
   "metadata": {},
   "source": [
    "### Cross Validation"
   ]
  },
  {
   "cell_type": "code",
   "execution_count": 389,
   "id": "e7ae5a4b-c97d-4e5d-a1c1-fbf54d1a04ab",
   "metadata": {},
   "outputs": [],
   "source": [
    "from sklearn.model_selection import cross_val_score"
   ]
  },
  {
   "cell_type": "code",
   "execution_count": 410,
   "id": "1f4cc88e-9cbb-4476-9756-fc1340528677",
   "metadata": {},
   "outputs": [
    {
     "name": "stdout",
     "output_type": "stream",
     "text": [
      "Cross-Validation Scores: [0.99270907 0.99385173 0.99160525 0.99286643 0.99393056]\n",
      "Average Cross-Validation Score: 0.9929926086070052\n"
     ]
    }
   ],
   "source": [
    "model = RandomForestClassifier(random_state=42)\n",
    "\n",
    "# Perform K-fold cross-validation\n",
    "cv_scores = cross_val_score(model, X_train, y_train, cv=5)  # cv=5 indicates 5-fold cross-validation\n",
    "\n",
    "# Output the cross-validation scores\n",
    "print(f\"Cross-Validation Scores: {cv_scores}\")\n",
    "print(f\"Average Cross-Validation Score: {cv_scores.mean()}\")"
   ]
  },
  {
   "cell_type": "markdown",
   "id": "1f8c4f29-848c-47e9-a2e3-1996288dd2e0",
   "metadata": {},
   "source": [
    "### Naive Bayes Classifier"
   ]
  },
  {
   "cell_type": "code",
   "execution_count": 411,
   "id": "50a886ab-6f7b-4c22-bb8d-474a3a283f03",
   "metadata": {},
   "outputs": [
    {
     "name": "stdout",
     "output_type": "stream",
     "text": [
      "Accuracy: 0.99\n",
      "Classification Report:\n",
      "              precision    recall  f1-score   support\n",
      "\n",
      "           0       0.96      1.00      0.98      5464\n",
      "           1       1.00      0.99      1.00     26253\n",
      "\n",
      "    accuracy                           0.99     31717\n",
      "   macro avg       0.98      0.99      0.99     31717\n",
      "weighted avg       0.99      0.99      0.99     31717\n",
      "\n"
     ]
    }
   ],
   "source": [
    "nb_classifier = GaussianNB()\n",
    "nb_classifier.fit(X_train, y_train)\n",
    "\n",
    "# Make predictions on the test data\n",
    "y_pred = nb_classifier.predict(X_test)\n",
    "\n",
    "# Evaluate the model's performance\n",
    "accuracy = accuracy_score(y_test, y_pred)\n",
    "print(f'Accuracy: {accuracy:.2f}')\n",
    "print('Classification Report:')\n",
    "print(classification_report(y_test, y_pred))"
   ]
  },
  {
   "cell_type": "markdown",
   "id": "24c081cd-e2dd-47bb-ba0a-1239faf1e87f",
   "metadata": {},
   "source": [
    "### XGBoost Classifier"
   ]
  },
  {
   "cell_type": "code",
   "execution_count": 412,
   "id": "5ba7d5ce-e511-479e-af41-a2cfdcbd8164",
   "metadata": {},
   "outputs": [
    {
     "name": "stdout",
     "output_type": "stream",
     "text": [
      "Accuracy: 0.99\n",
      "Classification Report:\n",
      "              precision    recall  f1-score   support\n",
      "\n",
      "           0       0.97      0.99      0.98      5464\n",
      "           1       1.00      0.99      1.00     26253\n",
      "\n",
      "    accuracy                           0.99     31717\n",
      "   macro avg       0.98      0.99      0.99     31717\n",
      "weighted avg       0.99      0.99      0.99     31717\n",
      "\n"
     ]
    }
   ],
   "source": [
    "xgb_classifier = XGBClassifier(use_label_encoder=False, eval_metric='logloss')\n",
    "xgb_classifier.fit(X_train, y_train)\n",
    "\n",
    "# Make predictions on the test data\n",
    "y_pred = xgb_classifier.predict(X_test)\n",
    "\n",
    "# Evaluate the model's performance\n",
    "accuracy = accuracy_score(y_test, y_pred)\n",
    "print(f'Accuracy: {accuracy:.2f}')\n",
    "print('Classification Report:')\n",
    "print(classification_report(y_test, y_pred))"
   ]
  },
  {
   "cell_type": "code",
   "execution_count": null,
   "id": "8777d52d-4764-4695-b4ab-c57aa98e5fa2",
   "metadata": {},
   "outputs": [],
   "source": []
  },
  {
   "cell_type": "markdown",
   "id": "db8de2a3-4e9d-4760-b876-08e011836e9c",
   "metadata": {},
   "source": [
    "### Catboost Classifier"
   ]
  },
  {
   "cell_type": "code",
   "execution_count": 393,
   "id": "6b7e2859-1f49-403f-9848-abe595d652c0",
   "metadata": {},
   "outputs": [
    {
     "name": "stdout",
     "output_type": "stream",
     "text": [
      "Accuracy: 0.99\n",
      "Classification Report:\n",
      "              precision    recall  f1-score   support\n",
      "\n",
      "           0       0.97      1.00      0.98      5464\n",
      "           1       1.00      0.99      1.00     26253\n",
      "\n",
      "    accuracy                           0.99     31717\n",
      "   macro avg       0.98      0.99      0.99     31717\n",
      "weighted avg       0.99      0.99      0.99     31717\n",
      "\n"
     ]
    }
   ],
   "source": [
    "from catboost import CatBoostClassifier\n",
    "# Train the CatBoost classifier\n",
    "catboost_classifier = CatBoostClassifier(verbose=0)\n",
    "catboost_classifier.fit(X_train, y_train)\n",
    "\n",
    "# Make predictions on the test data\n",
    "y_pred = catboost_classifier.predict(X_test)\n",
    "y_proba = catboost_classifier.predict_proba(X_test)[:, 1]\n",
    "\n",
    "# Evaluate the model's performance\n",
    "accuracy = accuracy_score(y_test, y_pred)\n",
    "print(f'Accuracy: {accuracy:.2f}')\n",
    "print('Classification Report:')\n",
    "print(classification_report(y_test, y_pred))"
   ]
  },
  {
   "cell_type": "code",
   "execution_count": null,
   "id": "2328d297-cc00-41b5-913e-0e62d32f0ff9",
   "metadata": {},
   "outputs": [],
   "source": []
  },
  {
   "cell_type": "markdown",
   "id": "60dfe09c-469f-4557-a361-df5ceada6a4b",
   "metadata": {},
   "source": [
    "### KNN Classifier"
   ]
  },
  {
   "cell_type": "code",
   "execution_count": 394,
   "id": "71b4fbf1-6d88-49fc-afcc-093c90c35d6d",
   "metadata": {},
   "outputs": [
    {
     "name": "stdout",
     "output_type": "stream",
     "text": [
      "Accuracy: 0.99\n",
      "Classification Report:\n",
      "              precision    recall  f1-score   support\n",
      "\n",
      "           0       0.97      0.99      0.98      5464\n",
      "           1       1.00      0.99      1.00     26253\n",
      "\n",
      "    accuracy                           0.99     31717\n",
      "   macro avg       0.98      0.99      0.99     31717\n",
      "weighted avg       0.99      0.99      0.99     31717\n",
      "\n"
     ]
    }
   ],
   "source": [
    "from sklearn.neighbors import KNeighborsClassifier\n",
    "# Train the KNN classifier\n",
    "knn_classifier = KNeighborsClassifier(n_neighbors=5)\n",
    "knn_classifier.fit(X_train, y_train)\n",
    "\n",
    "# Make predictions on the test data\n",
    "y_pred = knn_classifier.predict(X_test)\n",
    "y_proba = knn_classifier.predict_proba(X_test)[:, 1]\n",
    "\n",
    "# Evaluate the model's performance\n",
    "accuracy = accuracy_score(y_test, y_pred)\n",
    "print(f'Accuracy: {accuracy:.2f}')\n",
    "print('Classification Report:')\n",
    "print(classification_report(y_test, y_pred))"
   ]
  },
  {
   "cell_type": "code",
   "execution_count": 418,
   "id": "be775c60-2f31-4a34-a519-1e44babff2a7",
   "metadata": {},
   "outputs": [],
   "source": [
    "import pickle\n",
    "\n",
    "model = RandomForestClassifier()\n",
    "model.fit(X_train, y_train)\n",
    "\n",
    "filename = 'model.pkl'\n",
    "with open(filename, 'wb') as file:\n",
    "    pickle.dump(model, file)"
   ]
  },
  {
   "cell_type": "code",
   "execution_count": 419,
   "id": "6afd6753-65ac-4d83-9ad6-15f540a58e34",
   "metadata": {},
   "outputs": [],
   "source": [
    "filename = 'model.pkl'\n",
    "with open(filename, 'rb') as file:\n",
    "    loaded_model = pickle.load(file)"
   ]
  },
  {
   "cell_type": "markdown",
   "id": "a9571a62-6c52-43c5-93a0-aa95efc72b2d",
   "metadata": {},
   "source": [
    "## Function to predict loan approval"
   ]
  },
  {
   "cell_type": "code",
   "execution_count": 420,
   "id": "7a1bf475-4904-4ff0-b8ce-b2f28748482a",
   "metadata": {},
   "outputs": [
    {
     "data": {
      "application/javascript": [
       "\n",
       "        if (window._pyforest_update_imports_cell) { window._pyforest_update_imports_cell('import numpy as np\\nimport matplotlib.pyplot as plt\\nfrom sklearn.linear_model import LogisticRegression\\nfrom sklearn.preprocessing import StandardScaler\\nfrom sklearn.model_selection import GridSearchCV\\nimport pandas as pd\\nimport seaborn as sns\\nfrom sklearn.model_selection import cross_val_score'); }\n",
       "    "
      ],
      "text/plain": [
       "<IPython.core.display.Javascript object>"
      ]
     },
     "metadata": {},
     "output_type": "display_data"
    },
    {
     "name": "stdout",
     "output_type": "stream",
     "text": [
      "Loan Not Approved\n"
     ]
    }
   ],
   "source": [
    "def predict_loan_approval(model, input_data):\n",
    "    # Define the columns based on your feature names\n",
    "    columns = ['Term', 'Portion', 'GrAppv_log', 'ChgOffPrinGr_log', 'NoEmp_sqrt', 'CreateJob_sqrt', 'RetainedJob_sqrt', 'UrbanRural', 'RealEstate']\n",
    "\n",
    "    # Create a DataFrame from the input data\n",
    "    input_df = pd.DataFrame([input_data], columns=columns)\n",
    "\n",
    "    # Make a prediction using the model\n",
    "    prediction = model.predict(input_df)\n",
    "\n",
    "    # Return the loan status based on the prediction\n",
    "    if prediction == 1:\n",
    "        return \"Loan Approved\"\n",
    "    else:\n",
    "        return \"Loan Not Approved\"\n",
    "\n",
    "# Example input data\n",
    "input_data = {\n",
    "    'Term': 36,                  # Loan Term in months\n",
    "    'Portion': 0.5,              # Example value for Portion\n",
    "    'GrAppv_log': 11.4006,       # Log of Grant Approved Amount (log(90000))\n",
    "    'ChgOffPrinGr_log': 12.0,    # Log of Charged Off Principal\n",
    "    'NoEmp_sqrt': 4,             # Square Root of Number of Employees\n",
    "    'CreateJob_sqrt': 3,         # Square Root of Jobs Created\n",
    "    'RetainedJob_sqrt': 2,       # Square Root of Jobs Retained\n",
    "    'UrbanRural': 1,              \n",
    "    'RealEstate': 1              # Real Estate involvement (example value)\n",
    "}\n",
    "\n",
    "# Assuming 'model' is your trained Random Forest model\n",
    "loan_status = predict_loan_approval(model, input_data)\n",
    "print(loan_status)"
   ]
  },
  {
   "cell_type": "code",
   "execution_count": 421,
   "id": "2900a67c-fd8f-48d4-9839-2f9598f3da65",
   "metadata": {},
   "outputs": [
    {
     "data": {
      "application/javascript": [
       "\n",
       "        if (window._pyforest_update_imports_cell) { window._pyforest_update_imports_cell('import numpy as np\\nimport matplotlib.pyplot as plt\\nfrom sklearn.linear_model import LogisticRegression\\nfrom sklearn.preprocessing import StandardScaler\\nfrom sklearn.model_selection import GridSearchCV\\nimport pandas as pd\\nimport seaborn as sns\\nfrom sklearn.model_selection import cross_val_score'); }\n",
       "    "
      ],
      "text/plain": [
       "<IPython.core.display.Javascript object>"
      ]
     },
     "metadata": {},
     "output_type": "display_data"
    },
    {
     "name": "stdout",
     "output_type": "stream",
     "text": [
      "Loan Approved\n"
     ]
    }
   ],
   "source": [
    "# Further adjusted input data for probable loan approval\n",
    "input_data_further_adjusted = {\n",
    "    'Term': 12,                   # Further reduced Loan Term in months\n",
    "    'Portion': 0.7,               # Further adjusted example value for Portion\n",
    "    'GrAppv_log': 14.0,           # Further increased Log of Grant Approved Amount\n",
    "    'ChgOffPrinGr_log': 1.0,     # Further decreased Log of Charged Off Principal\n",
    "    'NoEmp_sqrt': 7.0,           # Further increased Square Root of Number of Employees\n",
    "    'CreateJob_sqrt': 6.0,        # Further increased Square Root of Jobs Created\n",
    "    'RetainedJob_sqrt': 5.0,      # Further increased Square Root of Jobs Retained\n",
    "    'UrbanRural': 0,           \n",
    "    'RealEstate': 1               # Real Estate involvement (example value)\n",
    "}\n",
    "\n",
    "# Predict loan approval with further adjusted input data\n",
    "loan_status_further_adjusted = predict_loan_approval(model, input_data_further_adjusted)\n",
    "print(loan_status_further_adjusted)"
   ]
  },
  {
   "cell_type": "code",
   "execution_count": null,
   "id": "8c147a82-16c2-413e-a151-ebc58e774566",
   "metadata": {},
   "outputs": [],
   "source": []
  }
 ],
 "metadata": {
  "kernelspec": {
   "display_name": "Python 3 (ipykernel)",
   "language": "python",
   "name": "python3"
  },
  "language_info": {
   "codemirror_mode": {
    "name": "ipython",
    "version": 3
   },
   "file_extension": ".py",
   "mimetype": "text/x-python",
   "name": "python",
   "nbconvert_exporter": "python",
   "pygments_lexer": "ipython3",
   "version": "3.11.7"
  }
 },
 "nbformat": 4,
 "nbformat_minor": 5
}
